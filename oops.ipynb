{
  "nbformat": 4,
  "nbformat_minor": 0,
  "metadata": {
    "colab": {
      "provenance": [],
      "authorship_tag": "ABX9TyNX226gYBo2wNpqhq3Uc+R+",
      "include_colab_link": true
    },
    "kernelspec": {
      "name": "python3",
      "display_name": "Python 3"
    },
    "language_info": {
      "name": "python"
    }
  },
  "cells": [
    {
      "cell_type": "markdown",
      "metadata": {
        "id": "view-in-github",
        "colab_type": "text"
      },
      "source": [
        "<a href=\"https://colab.research.google.com/github/TanuAgarwal741/Tanu-Agarwal/blob/Tanu/oops.ipynb\" target=\"_parent\"><img src=\"https://colab.research.google.com/assets/colab-badge.svg\" alt=\"Open In Colab\"/></a>"
      ]
    },
    {
      "cell_type": "code",
      "execution_count": 5,
      "metadata": {
        "colab": {
          "base_uri": "https://localhost:8080/"
        },
        "id": "9chXJxAW_X67",
        "outputId": "49a4f81e-19cf-4b10-c5fc-d4a5abd87abd"
      },
      "outputs": [
        {
          "output_type": "stream",
          "name": "stdout",
          "text": [
            "sejal 21 teacher\n"
          ]
        }
      ],
      "source": [
        "class Person:\n",
        "  name=\"Tanu\"\n",
        "  age=22\n",
        "  occupation=\"student\"\n",
        "\n",
        "a = Person()\n",
        "a.name=\"sejal\"\n",
        "a.age=21\n",
        "a.occupation=\"teacher\"\n",
        "print(a.name,a.age,a.occupation)"
      ]
    },
    {
      "cell_type": "code",
      "source": [
        "class Person:\n",
        "  name=\"Tanu\"\n",
        "  age=22\n",
        "  occupation=\"student\"\n",
        "  def info(self):\n",
        "   print(f\"{self.name} is a {self.occupation}\")\n",
        "\n",
        "a = Person()\n",
        "a.name=\"sejal\"\n",
        "a.age=21\n",
        "a.occupation=\"teacher\"\n",
        "a.info()"
      ],
      "metadata": {
        "colab": {
          "base_uri": "https://localhost:8080/"
        },
        "id": "INmQ6fLJA31s",
        "outputId": "f8ffd450-7484-453c-8e8f-dd0ec869b2ea"
      },
      "execution_count": 23,
      "outputs": [
        {
          "output_type": "stream",
          "name": "stdout",
          "text": [
            "sejal is a teacher\n"
          ]
        }
      ]
    },
    {
      "cell_type": "code",
      "source": [
        "class Person:\n",
        "  name=\"Tanu\"\n",
        "  age=22\n",
        "  occupation=\"student\"\n",
        "  def info(self):\n",
        "   print(f\"{self.name} is a {self.occupation}\")\n",
        "\n",
        "a = Person()\n",
        "\n",
        "a.info()"
      ],
      "metadata": {
        "colab": {
          "base_uri": "https://localhost:8080/"
        },
        "id": "Sfy7-0KvC8Ra",
        "outputId": "856cfaba-73c2-4b93-8e9b-955a3bd8339c"
      },
      "execution_count": 24,
      "outputs": [
        {
          "output_type": "stream",
          "name": "stdout",
          "text": [
            "Tanu is a student\n"
          ]
        }
      ]
    },
    {
      "cell_type": "code",
      "source": [
        "class Person:\n",
        "  name=\"Tanu\"\n",
        "  age=22\n",
        "  occupation=\"student\"\n",
        "  def __init__(self):\n",
        "   print(self.name , self.occupation)\n",
        "\n",
        "a = Person()\n"
      ],
      "metadata": {
        "colab": {
          "base_uri": "https://localhost:8080/"
        },
        "id": "r-QvOc9SCJIE",
        "outputId": "13239a4e-17da-4e86-a71c-a082cc8c30fd"
      },
      "execution_count": 22,
      "outputs": [
        {
          "output_type": "stream",
          "name": "stdout",
          "text": [
            "Tanu student\n"
          ]
        }
      ]
    },
    {
      "cell_type": "code",
      "source": [
        "class Animal:\n",
        "\n",
        "  def __init__(self,b,c):\n",
        "    print(\"I Am A Dog\")\n",
        "    self.breed = b\n",
        "    self.color = c\n",
        "\n",
        "  def info(self) :\n",
        "    print(f\"{self.breed} is a {self.color}\")\n",
        "\n",
        "a=Animal(\"pomeranian\",\"brown\")\n",
        "a.info()\n"
      ],
      "metadata": {
        "colab": {
          "base_uri": "https://localhost:8080/"
        },
        "id": "Cm0y9Z7TOQ6p",
        "outputId": "5bed58fb-d08b-4a4e-9b72-dedae6757373"
      },
      "execution_count": 28,
      "outputs": [
        {
          "output_type": "stream",
          "name": "stdout",
          "text": [
            "I Am A Dog\n",
            "pomeranian is a brown\n"
          ]
        }
      ]
    },
    {
      "cell_type": "code",
      "source": [
        "class Student:\n",
        " def __init__(self,name):\n",
        "   self.name = name\n",
        "\n",
        "class Dancer:\n",
        " def __init__(self,dance):\n",
        "    self.dance = dance\n",
        "\n",
        "class DancerStudent(Student,Dancer):\n",
        "  def __init__(self,name,dance):\n",
        "    self.dance = dance\n",
        "    self.name = name\n",
        "\n",
        "a = DancerStudent(\"Mansvi\" , \"Hip-Hop\")\n",
        "print(a.name)\n",
        "print(a.dance)"
      ],
      "metadata": {
        "colab": {
          "base_uri": "https://localhost:8080/"
        },
        "id": "zYCkInFHV2ii",
        "outputId": "5b19f0d4-2f94-4c65-eb56-bc272a14ec7a"
      },
      "execution_count": 37,
      "outputs": [
        {
          "output_type": "stream",
          "name": "stdout",
          "text": [
            "Mansvi\n",
            "Hip-Hop\n"
          ]
        }
      ]
    },
    {
      "cell_type": "code",
      "source": [
        "class Student:\n",
        " def __init__(self,name):\n",
        "   self.name = name\n",
        "\n",
        " def show(self):\n",
        "   print(f\"The name is {self.name}\")\n",
        "class Dancer:\n",
        " def __init__(self,dance):\n",
        "    self.dance = dance\n",
        "\n",
        " def show(self):\n",
        "   print(f\"The dance is {self.dance}\")\n",
        "\n",
        "class DancerStudent(Dancer,Student):\n",
        "  def __init__(self,name,dance):\n",
        "    self.dance = dance\n",
        "    self.name = name\n",
        "\n",
        "a = DancerStudent(\"Mansvi\" , \"Hip-Hop\")\n",
        "print(a.name)\n",
        "print(a.dance)\n",
        "a.show()"
      ],
      "metadata": {
        "colab": {
          "base_uri": "https://localhost:8080/"
        },
        "id": "4n0_XK0GaUwc",
        "outputId": "fceaf53b-d402-451f-ff2e-396a45224cdd"
      },
      "execution_count": 40,
      "outputs": [
        {
          "output_type": "stream",
          "name": "stdout",
          "text": [
            "Mansvi\n",
            "Hip-Hop\n",
            "The dance is Hip-Hop\n"
          ]
        }
      ]
    }
  ]
}