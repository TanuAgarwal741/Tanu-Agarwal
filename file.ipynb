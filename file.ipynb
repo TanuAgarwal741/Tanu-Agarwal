{
  "nbformat": 4,
  "nbformat_minor": 0,
  "metadata": {
    "colab": {
      "provenance": [],
      "authorship_tag": "ABX9TyMIqnf237MvSj5Y5b5l31Qv",
      "include_colab_link": true
    },
    "kernelspec": {
      "name": "python3",
      "display_name": "Python 3"
    },
    "language_info": {
      "name": "python"
    }
  },
  "cells": [
    {
      "cell_type": "markdown",
      "metadata": {
        "id": "view-in-github",
        "colab_type": "text"
      },
      "source": [
        "<a href=\"https://colab.research.google.com/github/TanuAgarwal741/Tanu-Agarwal/blob/main/file.ipynb\" target=\"_parent\"><img src=\"https://colab.research.google.com/assets/colab-badge.svg\" alt=\"Open In Colab\"/></a>"
      ]
    },
    {
      "cell_type": "code",
      "execution_count": 2,
      "metadata": {
        "colab": {
          "base_uri": "https://localhost:8080/"
        },
        "id": "__0ias20gTz_",
        "outputId": "db453d82-ba79-4d76-be9f-f0fbb02b3030"
      },
      "outputs": [
        {
          "output_type": "stream",
          "name": "stdout",
          "text": [
            "my name is tanu\n",
            "\n"
          ]
        }
      ],
      "source": [
        "f = open(\"python.txt\", \"r\")\n",
        "\n",
        "print(f.read())"
      ]
    },
    {
      "cell_type": "code",
      "source": [
        "f1 = open(\"python.txt\", \"r\")\n",
        "print(f1.read())"
      ],
      "metadata": {
        "colab": {
          "base_uri": "https://localhost:8080/"
        },
        "id": "Pav6Xl3YiQAI",
        "outputId": "a96e2cac-f13c-4c23-cfa1-05683374e351"
      },
      "execution_count": 6,
      "outputs": [
        {
          "output_type": "stream",
          "name": "stdout",
          "text": [
            "my name is tanu\n",
            "my father name is sharwan kumar agarwal\n",
            "my mother name is lalita devi\n",
            "i live in jaipur\n"
          ]
        }
      ]
    },
    {
      "cell_type": "code",
      "source": [
        "f = open(\"python.txt\", \"r\")\n",
        "\n",
        "print(f.readline())"
      ],
      "metadata": {
        "colab": {
          "base_uri": "https://localhost:8080/"
        },
        "id": "hncILa20kxVS",
        "outputId": "53fc76af-efcb-49fa-f038-358fefa7966c"
      },
      "execution_count": 15,
      "outputs": [
        {
          "output_type": "stream",
          "name": "stdout",
          "text": [
            "my name is tanu\n"
          ]
        }
      ]
    },
    {
      "cell_type": "code",
      "source": [
        "f = open(\"python.txt\", \"r\")\n",
        "\n",
        "print(f.readlines())"
      ],
      "metadata": {
        "colab": {
          "base_uri": "https://localhost:8080/"
        },
        "id": "chio9I_wpArp",
        "outputId": "18adce9e-e0ec-4e65-de9b-c4e81f5dba7a"
      },
      "execution_count": 23,
      "outputs": [
        {
          "output_type": "stream",
          "name": "stdout",
          "text": [
            "['my name is tanu\\n', 'i live in jaipur\\n', 'my father name is sharwan\\n', 'my mother name is lalita\\n', '\\n', ' Now the file has more content!']\n"
          ]
        }
      ]
    },
    {
      "cell_type": "code",
      "source": [
        "f = open(\"python.txt\", \"r\")\n",
        "for x in f:\n",
        "  print(x)\n"
      ],
      "metadata": {
        "colab": {
          "base_uri": "https://localhost:8080/"
        },
        "id": "Kn_uVWIAmnn-",
        "outputId": "e580ece7-f2d4-48fa-aee8-9c63099b0c0b"
      },
      "execution_count": 16,
      "outputs": [
        {
          "output_type": "stream",
          "name": "stdout",
          "text": [
            "my name is tanu\n"
          ]
        }
      ]
    },
    {
      "cell_type": "code",
      "source": [
        "f1 = open(\"python.txt\", \"a\")\n",
        "f1.write(\"\\n Now the file has more content!\")\n",
        "f1.close()\n",
        "\n",
        "f1 = open(\"python.txt\", \"r\")\n",
        "print(f1.read())\n"
      ],
      "metadata": {
        "colab": {
          "base_uri": "https://localhost:8080/"
        },
        "id": "8MyY0tsRnAEj",
        "outputId": "2ea88bdc-9574-4159-8d06-16bcdf37964c"
      },
      "execution_count": 22,
      "outputs": [
        {
          "output_type": "stream",
          "name": "stdout",
          "text": [
            "my name is tanu\n",
            "i live in jaipur\n",
            "my father name is sharwan\n",
            "my mother name is lalita\n",
            "\n",
            " Now the file has more content!\n"
          ]
        }
      ]
    }
  ]
}