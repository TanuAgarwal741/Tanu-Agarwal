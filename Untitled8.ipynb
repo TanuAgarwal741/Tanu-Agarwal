{
  "nbformat": 4,
  "nbformat_minor": 0,
  "metadata": {
    "colab": {
      "provenance": [],
      "authorship_tag": "ABX9TyPmFwhPhAfAW8WSLOA5CjTB",
      "include_colab_link": true
    },
    "kernelspec": {
      "name": "python3",
      "display_name": "Python 3"
    },
    "language_info": {
      "name": "python"
    }
  },
  "cells": [
    {
      "cell_type": "markdown",
      "metadata": {
        "id": "view-in-github",
        "colab_type": "text"
      },
      "source": [
        "<a href=\"https://colab.research.google.com/github/TanuAgarwal741/Tanu-Agarwal/blob/main/Untitled8.ipynb\" target=\"_parent\"><img src=\"https://colab.research.google.com/assets/colab-badge.svg\" alt=\"Open In Colab\"/></a>"
      ]
    },
    {
      "cell_type": "code",
      "execution_count": 1,
      "metadata": {
        "colab": {
          "base_uri": "https://localhost:8080/"
        },
        "id": "rELzNtKjtNiB",
        "outputId": "aa40669d-5c2a-4703-9abd-3e1a98d9d75d"
      },
      "outputs": [
        {
          "output_type": "stream",
          "name": "stdout",
          "text": [
            "Enter the maximum mark of a subject: 100\n",
            "Enter marks of the first subject: 80\n",
            "Enter marks of the second subject: 85\n",
            "Enter marks of the third subject: 90\n",
            "Enter marks of the fourth subject: 95\n",
            "Enter marks of the fifth subject: 97\n",
            "Average is  89.4\n",
            "According to the percentage, \n",
            "Grade: B\n"
          ]
        }
      ],
      "source": [
        "total=int(input(\"Enter the maximum mark of a subject: \"))\n",
        "\n",
        "sub1=int(input(\"Enter marks of the first subject: \"))\n",
        "\n",
        "sub2=int(input(\"Enter marks of the second subject: \"))\n",
        "\n",
        "sub3=int(input(\"Enter marks of the third subject: \"))\n",
        "\n",
        "sub4=int(input(\"Enter marks of the fourth subject: \"))\n",
        "\n",
        "sub5=int(input(\"Enter marks of the fifth subject: \"))\n",
        "\n",
        "average=(sub1+sub2+sub3+sub4+sub5)/5\n",
        "print(\"Average is \",average)\n",
        "percentage=(average/total)*100\n",
        "print(\"According to the percentage, \")\n",
        "if percentage >= 90:\n",
        "    print(\"Grade: A\")\n",
        "elif percentage >= 80 and percentage < 90:\n",
        "    print(\"Grade: B\")\n",
        "elif percentage >= 70 and percentage < 80:\n",
        "    print(\"Grade: C\")\n",
        "elif percentage >= 60 and percentage < 70:\n",
        "    print(\"Grade: D\")\n",
        "else:\n",
        "    print(\"Grade: E\")"
      ]
    },
    {
      "cell_type": "code",
      "source": [],
      "metadata": {
        "id": "qFOcEOGPvxR1"
      },
      "execution_count": 4,
      "outputs": []
    }
  ]
}