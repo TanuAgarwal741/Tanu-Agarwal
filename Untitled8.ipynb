{
  "nbformat": 4,
  "nbformat_minor": 0,
  "metadata": {
    "colab": {
      "provenance": [],
      "authorship_tag": "ABX9TyN6pqIu1to6cEqlJmQeKbhJ",
      "include_colab_link": true
    },
    "kernelspec": {
      "name": "python3",
      "display_name": "Python 3"
    },
    "language_info": {
      "name": "python"
    }
  },
  "cells": [
    {
      "cell_type": "markdown",
      "metadata": {
        "id": "view-in-github",
        "colab_type": "text"
      },
      "source": [
        "<a href=\"https://colab.research.google.com/github/TanuAgarwal741/Tanu-Agarwal/blob/main/Untitled8.ipynb\" target=\"_parent\"><img src=\"https://colab.research.google.com/assets/colab-badge.svg\" alt=\"Open In Colab\"/></a>"
      ]
    },
    {
      "cell_type": "code",
      "execution_count": 1,
      "metadata": {
        "colab": {
          "base_uri": "https://localhost:8080/"
        },
        "id": "rELzNtKjtNiB",
        "outputId": "aa40669d-5c2a-4703-9abd-3e1a98d9d75d"
      },
      "outputs": [
        {
          "output_type": "stream",
          "name": "stdout",
          "text": [
            "Enter the maximum mark of a subject: 100\n",
            "Enter marks of the first subject: 80\n",
            "Enter marks of the second subject: 85\n",
            "Enter marks of the third subject: 90\n",
            "Enter marks of the fourth subject: 95\n",
            "Enter marks of the fifth subject: 97\n",
            "Average is  89.4\n",
            "According to the percentage, \n",
            "Grade: B\n"
          ]
        }
      ],
      "source": [
        "total=int(input(\"Enter the maximum mark of a subject: \"))\n",
        "\n",
        "sub1=int(input(\"Enter marks of the first subject: \"))\n",
        "\n",
        "sub2=int(input(\"Enter marks of the second subject: \"))\n",
        "\n",
        "sub3=int(input(\"Enter marks of the third subject: \"))\n",
        "\n",
        "sub4=int(input(\"Enter marks of the fourth subject: \"))\n",
        "\n",
        "sub5=int(input(\"Enter marks of the fifth subject: \"))\n",
        "\n",
        "average=(sub1+sub2+sub3+sub4+sub5)/5\n",
        "print(\"Average is \",average)\n",
        "percentage=(average/total)*100\n",
        "print(\"According to the percentage, \")\n",
        "if percentage >= 90:\n",
        "    print(\"Grade: A\")\n",
        "elif percentage >= 80 and percentage < 90:\n",
        "    print(\"Grade: B\")\n",
        "elif percentage >= 70 and percentage < 80:\n",
        "    print(\"Grade: C\")\n",
        "elif percentage >= 60 and percentage < 70:\n",
        "    print(\"Grade: D\")\n",
        "else:\n",
        "    print(\"Grade: E\")"
      ]
    },
    {
      "cell_type": "code",
      "source": [
        "def Temp_Conv(Temp_in,case):\n",
        "    if case=='C2F':\n",
        "        return ((Temp_in*(9/5)) + 32)\n",
        "    if case=='F2C':\n",
        "        return 'Wrong case value'\n",
        "\n",
        "case = input(\"please enter a case: \")\n",
        "temp = 30\n",
        "print(Temp_Conv(temp, case))"
      ],
      "metadata": {
        "colab": {
          "base_uri": "https://localhost:8080/"
        },
        "id": "qFOcEOGPvxR1",
        "outputId": "bd5d4bf6-23b9-48f1-8801-0d45c92a4ec0"
      },
      "execution_count": 1,
      "outputs": [
        {
          "output_type": "stream",
          "name": "stdout",
          "text": [
            "please enter a case: 45\n",
            "None\n"
          ]
        }
      ]
    },
    {
      "cell_type": "code",
      "source": [
        "weight=float(input(\"Enter your weight in kilograms:\"))\n",
        "height=float(input(\"Enter your height in centimeters:\"))\n",
        "bmi=weight/((height/100)*(height/100))\n",
        "print(\"Your Body Mass Index (BMI) is:\",round(bmi,2))"
      ],
      "metadata": {
        "colab": {
          "base_uri": "https://localhost:8080/"
        },
        "id": "Hxwrydng_V7f",
        "outputId": "efe68b2f-5acb-4feb-de5a-bbffdcb403c0"
      },
      "execution_count": 2,
      "outputs": [
        {
          "output_type": "stream",
          "name": "stdout",
          "text": [
            "Enter your weight in kilograms:48\n",
            "Enter your height in centimeters:161.54\n",
            "Your Body Mass Index (BMI) is: 18.39\n"
          ]
        }
      ]
    },
    {
      "cell_type": "code",
      "source": [
        "height = float(input(\"Enter your height in cm: \"))\n",
        "weight = float(input(\"Enter your weight in kg: \"))\n",
        "BMI = weight / (height/100)**2\n",
        "print(f\"You BMI is {BMI}\")\n",
        "if BMI <= 18.4:\n",
        "    print(\"You are underweight.\")\n",
        "elif BMI <= 24.9:\n",
        "    print(\"You are healthy.\")\n",
        "elif BMI <= 29.9:\n",
        "    print(\"You are over weight.\")\n",
        "elif BMI <= 34.9:\n",
        "    print(\"You are severely over weight.\")\n",
        "elif BMI <= 39.9:\n",
        "    print(\"You are obese.\")\n",
        "else:\n",
        "    print(\"You are severely obese.\")"
      ],
      "metadata": {
        "colab": {
          "base_uri": "https://localhost:8080/"
        },
        "id": "ML_RNhYZARTv",
        "outputId": "c451ab1b-9378-46f4-b1a7-2b80d078eb39"
      },
      "execution_count": 4,
      "outputs": [
        {
          "output_type": "stream",
          "name": "stdout",
          "text": [
            "Enter your height in cm: 161.544\n",
            "Enter your weight in kg: 49\n",
            "You BMI is 18.776490224947533\n",
            "You are healthy.\n"
          ]
        }
      ]
    }
  ]
}