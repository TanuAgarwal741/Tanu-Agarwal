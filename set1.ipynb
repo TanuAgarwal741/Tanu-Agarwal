{
  "nbformat": 4,
  "nbformat_minor": 0,
  "metadata": {
    "colab": {
      "provenance": [],
      "authorship_tag": "ABX9TyOso87yuDGw0sk6trY2gaLi",
      "include_colab_link": true
    },
    "kernelspec": {
      "name": "python3",
      "display_name": "Python 3"
    },
    "language_info": {
      "name": "python"
    }
  },
  "cells": [
    {
      "cell_type": "markdown",
      "metadata": {
        "id": "view-in-github",
        "colab_type": "text"
      },
      "source": [
        "<a href=\"https://colab.research.google.com/github/TanuAgarwal741/Tanu-Agarwal/blob/main/set1.ipynb\" target=\"_parent\"><img src=\"https://colab.research.google.com/assets/colab-badge.svg\" alt=\"Open In Colab\"/></a>"
      ]
    },
    {
      "cell_type": "code",
      "execution_count": 1,
      "metadata": {
        "colab": {
          "base_uri": "https://localhost:8080/"
        },
        "id": "T7M96ICA_sTK",
        "outputId": "027efd84-816a-4d27-8a27-fb0ab0a087ec"
      },
      "outputs": [
        {
          "output_type": "stream",
          "name": "stdout",
          "text": [
            "set()\n"
          ]
        }
      ],
      "source": [
        "fruits={\"mango\",\"apple\",\"banana\"}\n",
        "fruit={\"grapes\",\"cherry\"}\n",
        "a=fruits.intersection(fruit)\n",
        "print(a)"
      ]
    },
    {
      "cell_type": "code",
      "source": [
        "fruits={\"mango\",\"apple\",\"banana\"}\n",
        "fruit={\"grapes\",\"cherry\",\"apple\"}\n",
        "a=fruits.intersection(fruit)\n",
        "print(a)"
      ],
      "metadata": {
        "colab": {
          "base_uri": "https://localhost:8080/"
        },
        "id": "1frg0HfRArut",
        "outputId": "dfe8d537-a5c4-48dd-ee3d-4b098fda500e"
      },
      "execution_count": 2,
      "outputs": [
        {
          "output_type": "stream",
          "name": "stdout",
          "text": [
            "{'apple'}\n"
          ]
        }
      ]
    },
    {
      "cell_type": "code",
      "source": [
        "fruits={\"mango\",\"apple\",\"banana\"}\n",
        "fruit={\"grapes\",\"cherry\",\"apple\"}\n",
        "fruits.intersection_update(fruit)\n",
        "print(fruits)"
      ],
      "metadata": {
        "colab": {
          "base_uri": "https://localhost:8080/"
        },
        "id": "xN4NDq78A7Ni",
        "outputId": "955dc191-75b4-4b00-ee4d-5e19fb775b1b"
      },
      "execution_count": 12,
      "outputs": [
        {
          "output_type": "stream",
          "name": "stdout",
          "text": [
            "{'apple'}\n"
          ]
        }
      ]
    },
    {
      "cell_type": "code",
      "source": [
        "fruits={\"mango\",\"apple\",\"banana\"}\n",
        "fruit={\"grapes\",\"cherry\",\"apple\"}\n",
        "a=fruit.symmetric_difference(fruits)\n",
        "print(a)"
      ],
      "metadata": {
        "colab": {
          "base_uri": "https://localhost:8080/"
        },
        "id": "zm2BXRTRCb3o",
        "outputId": "2949c3a8-7730-40d0-d9c7-f5fce7867bcf"
      },
      "execution_count": 6,
      "outputs": [
        {
          "output_type": "stream",
          "name": "stdout",
          "text": [
            "{'banana', 'cherry', 'mango', 'grapes'}\n"
          ]
        }
      ]
    },
    {
      "cell_type": "code",
      "source": [
        "fruits={\"mango\",\"apple\",\"banana\"}\n",
        "fruit={\"grapes\",\"cherry\",\"apple\"}\n",
        "fruits.symmetric_difference_update(fruit)\n",
        "print(fruits)"
      ],
      "metadata": {
        "colab": {
          "base_uri": "https://localhost:8080/"
        },
        "id": "xiNvSfdACwi2",
        "outputId": "baae43be-5039-4e5a-ce00-1fdd5127df61"
      },
      "execution_count": 15,
      "outputs": [
        {
          "output_type": "stream",
          "name": "stdout",
          "text": [
            "{'banana', 'cherry', 'mango', 'grapes'}\n"
          ]
        }
      ]
    },
    {
      "cell_type": "code",
      "source": [],
      "metadata": {
        "id": "Kjeq66ObE4St"
      },
      "execution_count": null,
      "outputs": []
    }
  ]
}