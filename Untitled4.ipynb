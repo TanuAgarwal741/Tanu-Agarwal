{
  "nbformat": 4,
  "nbformat_minor": 0,
  "metadata": {
    "colab": {
      "provenance": [],
      "authorship_tag": "ABX9TyPPe66FLtef1cpf1IgxvvlD",
      "include_colab_link": true
    },
    "kernelspec": {
      "name": "python3",
      "display_name": "Python 3"
    },
    "language_info": {
      "name": "python"
    }
  },
  "cells": [
    {
      "cell_type": "markdown",
      "metadata": {
        "id": "view-in-github",
        "colab_type": "text"
      },
      "source": [
        "<a href=\"https://colab.research.google.com/github/TanuAgarwal741/Tanu-Agarwal/blob/main/Untitled4.ipynb\" target=\"_parent\"><img src=\"https://colab.research.google.com/assets/colab-badge.svg\" alt=\"Open In Colab\"/></a>"
      ]
    },
    {
      "cell_type": "code",
      "execution_count": 3,
      "metadata": {
        "colab": {
          "base_uri": "https://localhost:8080/"
        },
        "id": "GOuz3CfLGm8r",
        "outputId": "f4fd7756-112f-4008-fe88-c98316f69085"
      },
      "outputs": [
        {
          "output_type": "stream",
          "name": "stdout",
          "text": [
            "4\n",
            "not prime\n",
            "not prime\n"
          ]
        }
      ],
      "source": [
        "a=int(input())\n",
        "flag=0\n",
        "for i in range(2,a):\n",
        "  if a%i==0:\n",
        "    flag=1\n",
        "  if flag==0:\n",
        "      print(\"prime\")\n",
        "  else:\n",
        "        print(\"not prime\")"
      ]
    }
  ]
}