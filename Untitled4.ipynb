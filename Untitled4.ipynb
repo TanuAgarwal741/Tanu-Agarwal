{
  "nbformat": 4,
  "nbformat_minor": 0,
  "metadata": {
    "colab": {
      "provenance": [],
      "authorship_tag": "ABX9TyPRmleJVqtxACfxUjdB02jA",
      "include_colab_link": true
    },
    "kernelspec": {
      "name": "python3",
      "display_name": "Python 3"
    },
    "language_info": {
      "name": "python"
    }
  },
  "cells": [
    {
      "cell_type": "markdown",
      "metadata": {
        "id": "view-in-github",
        "colab_type": "text"
      },
      "source": [
        "<a href=\"https://colab.research.google.com/github/TanuAgarwal741/Tanu-Agarwal/blob/main/Untitled4.ipynb\" target=\"_parent\"><img src=\"https://colab.research.google.com/assets/colab-badge.svg\" alt=\"Open In Colab\"/></a>"
      ]
    },
    {
      "cell_type": "code",
      "execution_count": 1,
      "metadata": {
        "colab": {
          "base_uri": "https://localhost:8080/"
        },
        "id": "KtF4Tc1rer_D",
        "outputId": "2c8517a9-7d16-41e1-b252-94da0c307219"
      },
      "outputs": [
        {
          "output_type": "stream",
          "name": "stdout",
          "text": [
            "['yM', 'emaN', 'sI', 'unaT']\n"
          ]
        }
      ],
      "source": [
        "str1=\"My Name Is Tanu\"\n",
        "result=str1.split()\n",
        "rev_str1=[]\n",
        "for i in result:\n",
        "  rev_str1.append(i[::-1])\n",
        "print(rev_str1)"
      ]
    },
    {
      "cell_type": "code",
      "source": [
        "\n",
        "a=int(input())\n",
        "flag=0\n",
        "for i in range(2,a):\n",
        "  if a%i==0:\n",
        "    flag=1\n",
        "  if flag==0:\n",
        "    print(\"prime\")\n",
        "  else:\n",
        "    print(\"not prime\")"
      ],
      "metadata": {
        "colab": {
          "base_uri": "https://localhost:8080/"
        },
        "id": "PXFFAuvqfOlf",
        "outputId": "4dcede20-13fd-42d2-caa9-60d529123b2a"
      },
      "execution_count": 2,
      "outputs": [
        {
          "output_type": "stream",
          "name": "stdout",
          "text": [
            "7\n",
            "prime\n",
            "prime\n",
            "prime\n",
            "prime\n",
            "prime\n"
          ]
        }
      ]
    }
  ]
}