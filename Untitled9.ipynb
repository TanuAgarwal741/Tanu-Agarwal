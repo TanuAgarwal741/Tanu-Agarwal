{
  "nbformat": 4,
  "nbformat_minor": 0,
  "metadata": {
    "colab": {
      "provenance": [],
      "authorship_tag": "ABX9TyOnGRYBRQyeaY2Bukftrlkk",
      "include_colab_link": true
    },
    "kernelspec": {
      "name": "python3",
      "display_name": "Python 3"
    },
    "language_info": {
      "name": "python"
    }
  },
  "cells": [
    {
      "cell_type": "markdown",
      "metadata": {
        "id": "view-in-github",
        "colab_type": "text"
      },
      "source": [
        "<a href=\"https://colab.research.google.com/github/TanuAgarwal741/Tanu-Agarwal/blob/main/Untitled9.ipynb\" target=\"_parent\"><img src=\"https://colab.research.google.com/assets/colab-badge.svg\" alt=\"Open In Colab\"/></a>"
      ]
    },
    {
      "cell_type": "code",
      "execution_count": 10,
      "metadata": {
        "colab": {
          "base_uri": "https://localhost:8080/"
        },
        "id": "BIKps5at0N_O",
        "outputId": "e1c1f781-8016-4833-fe14-ca656e227e2b"
      },
      "outputs": [
        {
          "output_type": "stream",
          "name": "stdout",
          "text": [
            "Nam\n"
          ]
        }
      ],
      "source": [
        "str1=\"MyNameIs\"\n",
        "slice=str1[2:5]\n",
        "print(slice)"
      ]
    },
    {
      "cell_type": "code",
      "source": [
        "str1=\"mynameis\"\n",
        "upr=str1.upper()\n",
        "print(upr)\n"
      ],
      "metadata": {
        "colab": {
          "base_uri": "https://localhost:8080/"
        },
        "id": "xJDE5WSd2ruC",
        "outputId": "8cf1a3d6-bc54-4887-f67d-36176db16ded"
      },
      "execution_count": 15,
      "outputs": [
        {
          "output_type": "stream",
          "name": "stdout",
          "text": [
            "MYNAMEIS\n"
          ]
        }
      ]
    },
    {
      "cell_type": "code",
      "source": [
        "str=\" myname is\"\n",
        "print(len(str))\n",
        "str1=str.strip()\n",
        "print(str1)\n",
        "print(len(str1))"
      ],
      "metadata": {
        "colab": {
          "base_uri": "https://localhost:8080/"
        },
        "id": "9_r44a073q7J",
        "outputId": "67ff3335-a561-443f-e55d-ec2ba2e5d634"
      },
      "execution_count": 21,
      "outputs": [
        {
          "output_type": "stream",
          "name": "stdout",
          "text": [
            "10\n",
            "myname is\n",
            "9\n"
          ]
        }
      ]
    },
    {
      "cell_type": "code",
      "source": [
        "str=\"tanu\"\n",
        "a=str.replace(\"tanu\",\"agarwal\")\n",
        "print(a)"
      ],
      "metadata": {
        "colab": {
          "base_uri": "https://localhost:8080/"
        },
        "id": "3dVwlAwS6POg",
        "outputId": "823adc6b-67ef-42c0-e0e4-c451e0ff5d50"
      },
      "execution_count": 26,
      "outputs": [
        {
          "output_type": "stream",
          "name": "stdout",
          "text": [
            "agarwal\n"
          ]
        }
      ]
    },
    {
      "cell_type": "code",
      "source": [
        "str=\"my name is my\"\n",
        "str1=\"my favorite color is blue\"\n",
        "a=str.count(\"my\")\n",
        "b=str1.count(\"my\")\n",
        "print(a,b)"
      ],
      "metadata": {
        "colab": {
          "base_uri": "https://localhost:8080/"
        },
        "id": "A5NNMtY26lwL",
        "outputId": "b2231921-50fc-4ebe-bf48-51ffb2415fe3"
      },
      "execution_count": 34,
      "outputs": [
        {
          "output_type": "stream",
          "name": "stdout",
          "text": [
            "2 1\n"
          ]
        }
      ]
    },
    {
      "cell_type": "code",
      "source": [
        "str=\"my name is my\"\n",
        "a=str.find(\"my\")\n",
        "print(a)"
      ],
      "metadata": {
        "colab": {
          "base_uri": "https://localhost:8080/"
        },
        "id": "XfFcxCCd8K4Q",
        "outputId": "77ecaf1f-c73a-4b8d-8556-3d6da397b1a2"
      },
      "execution_count": 35,
      "outputs": [
        {
          "output_type": "stream",
          "name": "stdout",
          "text": [
            "0\n"
          ]
        }
      ]
    },
    {
      "cell_type": "code",
      "source": [
        "str=\"my name is my\"\n",
        "a=str.find(\"xyz\")\n",
        "print(a)"
      ],
      "metadata": {
        "colab": {
          "base_uri": "https://localhost:8080/"
        },
        "id": "lS1EuckD8y-v",
        "outputId": "044616a1-17aa-4594-a5fc-5bdbf127b21a"
      },
      "execution_count": 36,
      "outputs": [
        {
          "output_type": "stream",
          "name": "stdout",
          "text": [
            "-1\n"
          ]
        }
      ]
    },
    {
      "cell_type": "code",
      "source": [
        "str=\"tanu\"\n",
        "print(str.replace(\"tanu\",\"agarwal\"))"
      ],
      "metadata": {
        "colab": {
          "base_uri": "https://localhost:8080/"
        },
        "id": "3kbfDdWz5vwH",
        "outputId": "b3fc2340-4cbc-488d-bbf6-42756f1df9b7"
      },
      "execution_count": 24,
      "outputs": [
        {
          "output_type": "stream",
          "name": "stdout",
          "text": [
            "agarwal\n"
          ]
        }
      ]
    }
  ]
}