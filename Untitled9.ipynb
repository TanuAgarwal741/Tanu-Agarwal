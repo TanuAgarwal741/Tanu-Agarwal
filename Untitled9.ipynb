{
  "nbformat": 4,
  "nbformat_minor": 0,
  "metadata": {
    "colab": {
      "provenance": [],
      "authorship_tag": "ABX9TyPXOYanb7ZbdEOwJVjNwkY+",
      "include_colab_link": true
    },
    "kernelspec": {
      "name": "python3",
      "display_name": "Python 3"
    },
    "language_info": {
      "name": "python"
    }
  },
  "cells": [
    {
      "cell_type": "markdown",
      "metadata": {
        "id": "view-in-github",
        "colab_type": "text"
      },
      "source": [
        "<a href=\"https://colab.research.google.com/github/TanuAgarwal741/Tanu-Agarwal/blob/main/Untitled9.ipynb\" target=\"_parent\"><img src=\"https://colab.research.google.com/assets/colab-badge.svg\" alt=\"Open In Colab\"/></a>"
      ]
    },
    {
      "cell_type": "code",
      "execution_count": 10,
      "metadata": {
        "colab": {
          "base_uri": "https://localhost:8080/"
        },
        "id": "BIKps5at0N_O",
        "outputId": "e1c1f781-8016-4833-fe14-ca656e227e2b"
      },
      "outputs": [
        {
          "output_type": "stream",
          "name": "stdout",
          "text": [
            "Nam\n"
          ]
        }
      ],
      "source": [
        "str1=\"MyNameIs\"\n",
        "slice=str1[2:5]\n",
        "print(slice)"
      ]
    },
    {
      "cell_type": "code",
      "source": [
        "str1=\"mynameis\"\n",
        "upr=str1.upper()\n",
        "print(upr)\n"
      ],
      "metadata": {
        "colab": {
          "base_uri": "https://localhost:8080/"
        },
        "id": "xJDE5WSd2ruC",
        "outputId": "8cf1a3d6-bc54-4887-f67d-36176db16ded"
      },
      "execution_count": 15,
      "outputs": [
        {
          "output_type": "stream",
          "name": "stdout",
          "text": [
            "MYNAMEIS\n"
          ]
        }
      ]
    }
  ]
}