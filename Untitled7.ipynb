{
  "nbformat": 4,
  "nbformat_minor": 0,
  "metadata": {
    "colab": {
      "provenance": [],
      "authorship_tag": "ABX9TyOLBqiwWAVgznFy/tr1Ev2x",
      "include_colab_link": true
    },
    "kernelspec": {
      "name": "python3",
      "display_name": "Python 3"
    },
    "language_info": {
      "name": "python"
    }
  },
  "cells": [
    {
      "cell_type": "markdown",
      "metadata": {
        "id": "view-in-github",
        "colab_type": "text"
      },
      "source": [
        "<a href=\"https://colab.research.google.com/github/TanuAgarwal741/Tanu-Agarwal/blob/main/Untitled7.ipynb\" target=\"_parent\"><img src=\"https://colab.research.google.com/assets/colab-badge.svg\" alt=\"Open In Colab\"/></a>"
      ]
    },
    {
      "cell_type": "code",
      "execution_count": null,
      "metadata": {
        "colab": {
          "base_uri": "https://localhost:8080/"
        },
        "id": "02KcGAO2sRs8",
        "outputId": "7356b272-cd28-4a5d-8cc7-33a69e1497a9"
      },
      "outputs": [
        {
          "output_type": "stream",
          "name": "stdout",
          "text": [
            "Enter any Number:50\n",
            "to high\n",
            "Enter Number again:200\n",
            "to high\n",
            "Enter Number again:2000\n",
            "to high\n"
          ]
        }
      ],
      "source": [
        "import random\n",
        "a=random.randrange(1,100)\n",
        "b=int(input(\"Enter any Number:\"))\n",
        "while not (a==b):\n",
        "  if b<a:\n",
        "    print(\"to low\")\n",
        "    b=int(input(\"Enter Number again:\"))\n",
        "  elif b>a:\n",
        "   print(\"to high\")\n",
        "   b=int(input(\"Enter Number again:\"))\n",
        "  else:\n",
        "      break\n",
        "      print(\"you guess\")\n"
      ]
    }
  ]
}