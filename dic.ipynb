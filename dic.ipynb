{
  "nbformat": 4,
  "nbformat_minor": 0,
  "metadata": {
    "colab": {
      "provenance": [],
      "authorship_tag": "ABX9TyOz+LEHIelG1qEzvNzuF/dx",
      "include_colab_link": true
    },
    "kernelspec": {
      "name": "python3",
      "display_name": "Python 3"
    },
    "language_info": {
      "name": "python"
    }
  },
  "cells": [
    {
      "cell_type": "markdown",
      "metadata": {
        "id": "view-in-github",
        "colab_type": "text"
      },
      "source": [
        "<a href=\"https://colab.research.google.com/github/TanuAgarwal741/Tanu-Agarwal/blob/main/dic.ipynb\" target=\"_parent\"><img src=\"https://colab.research.google.com/assets/colab-badge.svg\" alt=\"Open In Colab\"/></a>"
      ]
    },
    {
      "cell_type": "code",
      "execution_count": 8,
      "metadata": {
        "colab": {
          "base_uri": "https://localhost:8080/",
          "height": 35
        },
        "id": "Rwxy6zl4FCbv",
        "outputId": "264566d9-835e-42e8-f786-7453a43d577c"
      },
      "outputs": [
        {
          "output_type": "execute_result",
          "data": {
            "text/plain": [
              "'tanu'"
            ],
            "application/vnd.google.colaboratory.intrinsic+json": {
              "type": "string"
            }
          },
          "metadata": {},
          "execution_count": 8
        }
      ],
      "source": [
        "user={\"name\":\"tanu\",\"age\": 22,\"subject\":\"python\"}\n",
        "user[\"name\"]"
      ]
    },
    {
      "cell_type": "code",
      "source": [
        "user={\"name\":\"tanu\",\"age\": 22,\"subject\":\"python\"}\n",
        "user[\"name\"]\n",
        "user[\"age\"]"
      ],
      "metadata": {
        "colab": {
          "base_uri": "https://localhost:8080/"
        },
        "id": "mA5A-8XkF4cr",
        "outputId": "60369e21-8185-400b-fcea-3f34adf14884"
      },
      "execution_count": 9,
      "outputs": [
        {
          "output_type": "execute_result",
          "data": {
            "text/plain": [
              "22"
            ]
          },
          "metadata": {},
          "execution_count": 9
        }
      ]
    },
    {
      "cell_type": "code",
      "source": [
        "user={\"name\":\"tanu\",\"age\": 22,\"subject\":\"python\"}\n",
        "print(user)"
      ],
      "metadata": {
        "colab": {
          "base_uri": "https://localhost:8080/"
        },
        "id": "33Efw0EHGCUo",
        "outputId": "41c0becf-20bc-4b02-8479-af95473df93c"
      },
      "execution_count": 10,
      "outputs": [
        {
          "output_type": "stream",
          "name": "stdout",
          "text": [
            "{'name': 'tanu', 'age': 22, 'subject': 'python'}\n"
          ]
        }
      ]
    },
    {
      "cell_type": "code",
      "source": [
        "user={\"name\":\"tanu\",\"age\": 22,\"subject\":\"python\",\"name\":\"sejal\"}\n",
        "print(user)"
      ],
      "metadata": {
        "colab": {
          "base_uri": "https://localhost:8080/"
        },
        "id": "6_BlZOR_GS72",
        "outputId": "5cac9e0a-1a0a-4505-fbcd-c9e868f71ca0"
      },
      "execution_count": 12,
      "outputs": [
        {
          "output_type": "stream",
          "name": "stdout",
          "text": [
            "{'name': 'sejal', 'age': 22, 'subject': 'python'}\n"
          ]
        }
      ]
    },
    {
      "cell_type": "code",
      "source": [
        "user={\"name\":\"tanu\",\"age\": 22,\"subject\":\"python\",\"name\":\"sejal\"}\n",
        "print(user.keys())"
      ],
      "metadata": {
        "colab": {
          "base_uri": "https://localhost:8080/"
        },
        "id": "zg_2_raIGnJf",
        "outputId": "739bf52e-8a68-4dd1-adb4-7dc2c2934fa0"
      },
      "execution_count": 19,
      "outputs": [
        {
          "output_type": "stream",
          "name": "stdout",
          "text": [
            "dict_keys(['name', 'age', 'subject'])\n"
          ]
        }
      ]
    },
    {
      "cell_type": "code",
      "source": [
        "user={\"name\":\"tanu\",\"age\": 22,\"subject\":\"python\"}\n",
        "for keys,value in user.items():\n",
        "\n",
        " print(keys,value)\n"
      ],
      "metadata": {
        "colab": {
          "base_uri": "https://localhost:8080/"
        },
        "id": "huGC5ORZHyNA",
        "outputId": "7210c92b-02d4-440d-f8dd-1e598e5f0fdd"
      },
      "execution_count": 37,
      "outputs": [
        {
          "output_type": "stream",
          "name": "stdout",
          "text": [
            "name tanu\n",
            "age 22\n",
            "subject python\n"
          ]
        }
      ]
    },
    {
      "cell_type": "code",
      "source": [
        "user={\"name\":\"tanu\",\"age\": 22,\"subject\":\"python\"}\n",
        "user.update({\"surname\":\"agarwal\"})\n",
        "print(user)"
      ],
      "metadata": {
        "colab": {
          "base_uri": "https://localhost:8080/"
        },
        "id": "6bOGnDk_I14u",
        "outputId": "2894997e-f060-4fc0-f472-00f665a05c02"
      },
      "execution_count": 48,
      "outputs": [
        {
          "output_type": "stream",
          "name": "stdout",
          "text": [
            "{'name': 'tanu', 'age': 22, 'subject': 'python', 'surname': 'agarwal'}\n"
          ]
        }
      ]
    },
    {
      "cell_type": "code",
      "source": [
        "user={\"name\":\"tanu\",\"age\": 22,\"subject\":\"python\"}\n",
        "user.pop('name')\n",
        "print(user)"
      ],
      "metadata": {
        "colab": {
          "base_uri": "https://localhost:8080/"
        },
        "id": "Cfcu_LbVKIyp",
        "outputId": "9005fe1a-3e1f-4876-af1d-030cdc64918a"
      },
      "execution_count": 53,
      "outputs": [
        {
          "output_type": "stream",
          "name": "stdout",
          "text": [
            "{'age': 22, 'subject': 'python'}\n"
          ]
        }
      ]
    },
    {
      "cell_type": "code",
      "source": [
        "user={\"name\":\"tanu\",\"age\": 22,\"subject\":\"python\"}\n",
        "user.popitem()\n",
        "print(user)"
      ],
      "metadata": {
        "colab": {
          "base_uri": "https://localhost:8080/"
        },
        "id": "hA7f4Hk3KdnK",
        "outputId": "317980bd-4af4-47a2-ad1e-2445bfee5c97"
      },
      "execution_count": 55,
      "outputs": [
        {
          "output_type": "stream",
          "name": "stdout",
          "text": [
            "{'name': 'tanu', 'age': 22}\n"
          ]
        }
      ]
    },
    {
      "cell_type": "code",
      "source": [
        "user={\"name\":\"tanu\",\"age\": 22,\"subject\":\"python\"}\n",
        "del user[\"name\"]\n",
        "print(user)"
      ],
      "metadata": {
        "colab": {
          "base_uri": "https://localhost:8080/"
        },
        "id": "vk2YlnyGKkpx",
        "outputId": "f500e3a8-a761-4088-8ec0-17ad78bbada1"
      },
      "execution_count": 63,
      "outputs": [
        {
          "output_type": "stream",
          "name": "stdout",
          "text": [
            "{'age': 22, 'subject': 'python'}\n"
          ]
        }
      ]
    },
    {
      "cell_type": "code",
      "source": [
        "user={}\n"
      ],
      "metadata": {
        "id": "UgR7kbvaLc8p"
      },
      "execution_count": null,
      "outputs": []
    }
  ]
}