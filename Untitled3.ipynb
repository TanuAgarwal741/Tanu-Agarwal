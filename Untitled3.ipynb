{
  "nbformat": 4,
  "nbformat_minor": 0,
  "metadata": {
    "colab": {
      "provenance": [],
      "authorship_tag": "ABX9TyMp2N2INAkI8P2APvHlcY2g",
      "include_colab_link": true
    },
    "kernelspec": {
      "name": "python3",
      "display_name": "Python 3"
    },
    "language_info": {
      "name": "python"
    }
  },
  "cells": [
    {
      "cell_type": "markdown",
      "metadata": {
        "id": "view-in-github",
        "colab_type": "text"
      },
      "source": [
        "<a href=\"https://colab.research.google.com/github/TanuAgarwal741/Tanu-Agarwal/blob/main/Untitled3.ipynb\" target=\"_parent\"><img src=\"https://colab.research.google.com/assets/colab-badge.svg\" alt=\"Open In Colab\"/></a>"
      ]
    },
    {
      "cell_type": "code",
      "execution_count": 7,
      "metadata": {
        "colab": {
          "base_uri": "https://localhost:8080/"
        },
        "id": "qHwQq1S6Ar1T",
        "outputId": "48b6d7b5-3fe5-43ce-86fc-043dfbf1f9fc"
      },
      "outputs": [
        {
          "output_type": "stream",
          "name": "stdout",
          "text": [
            "30\n"
          ]
        }
      ],
      "source": [
        "def add (a,b):\n",
        " c=(a+b)\n",
        " print(c)\n",
        "add (10,20)"
      ]
    },
    {
      "cell_type": "code",
      "source": [
        "def sub (a,b):\n",
        "  c=(a-b)\n",
        "  print(c)\n",
        "sub (30,20)"
      ],
      "metadata": {
        "colab": {
          "base_uri": "https://localhost:8080/"
        },
        "id": "xFTJfHTwCo7d",
        "outputId": "4e9b9104-96b2-4fb6-94d4-e14557dce06c"
      },
      "execution_count": 9,
      "outputs": [
        {
          "output_type": "stream",
          "name": "stdout",
          "text": [
            "10\n"
          ]
        }
      ]
    },
    {
      "cell_type": "code",
      "source": [
        "def add(*arg):\n",
        "  lenght=len(arg)\n",
        "  print(arg[lenght-1])\n",
        "add(10,20,30,40,50)\n",
        "add(10,20,30,40)\n",
        "add(10,20,30)\n",
        "add(10,20)\n",
        "add(10)"
      ],
      "metadata": {
        "colab": {
          "base_uri": "https://localhost:8080/"
        },
        "id": "NIrYiJ1kDMZS",
        "outputId": "102a3d22-056c-41d8-e5c2-f08a4a6ccd4c"
      },
      "execution_count": 10,
      "outputs": [
        {
          "output_type": "stream",
          "name": "stdout",
          "text": [
            "50\n",
            "40\n",
            "30\n",
            "20\n",
            "10\n"
          ]
        }
      ]
    },
    {
      "cell_type": "code",
      "source": [
        "def add(*arg):\n",
        "  lenght=len(arg)\n",
        "  print(arg[lenght-2])\n",
        "add(10,20,30,40,50)\n",
        "add(10,20,30,40)\n",
        "add(10,20,30)\n",
        "add(10,20)\n",
        "add(10)"
      ],
      "metadata": {
        "colab": {
          "base_uri": "https://localhost:8080/"
        },
        "id": "fKwBgFkLFSgL",
        "outputId": "13e3941d-753c-4a1f-fe55-4a46c5f8a41e"
      },
      "execution_count": 13,
      "outputs": [
        {
          "output_type": "stream",
          "name": "stdout",
          "text": [
            "40\n",
            "30\n",
            "20\n",
            "10\n",
            "10\n"
          ]
        }
      ]
    },
    {
      "cell_type": "code",
      "source": [
        "a=int(input(\"Enter value:\"))\n",
        "b=int(input(\"Enter value:\"))\n",
        "def add(a,b):\n",
        "  return(a+b)\n",
        "print(\"Sum of number is:\",add(a,b))\n",
        "\n",
        "\n",
        "\n"
      ],
      "metadata": {
        "colab": {
          "base_uri": "https://localhost:8080/"
        },
        "id": "VWnyfcq7GA3Y",
        "outputId": "f2a29d90-876b-4a56-f171-c26752dda924"
      },
      "execution_count": 9,
      "outputs": [
        {
          "output_type": "stream",
          "name": "stdout",
          "text": [
            "Enter value:10\n",
            "Enter value:20\n",
            "Sum of number is: 30\n"
          ]
        }
      ]
    },
    {
      "cell_type": "code",
      "source": [
        "a=int(input(\"Enter value:\"))\n",
        "b=int(input(\"Enter value:\"))\n",
        "c=int(input(\"Enter value:\"))\n",
        "def add(a,b,c):\n",
        "  return(a+b+c)\n",
        "print(\"Sum of number is:\",add(a,b,c))"
      ],
      "metadata": {
        "colab": {
          "base_uri": "https://localhost:8080/"
        },
        "id": "hbSTyf-9NBPy",
        "outputId": "9b996ced-0e83-4130-be8d-4d4f1eb0aaef"
      },
      "execution_count": 10,
      "outputs": [
        {
          "output_type": "stream",
          "name": "stdout",
          "text": [
            "Enter value:10\n",
            "Enter value:20\n",
            "Enter value:30\n",
            "Sum of number is: 60\n"
          ]
        }
      ]
    }
  ]
}