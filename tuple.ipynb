{
  "nbformat": 4,
  "nbformat_minor": 0,
  "metadata": {
    "colab": {
      "provenance": [],
      "authorship_tag": "ABX9TyO9ALC5eu+/hJvLavMMYNP6",
      "include_colab_link": true
    },
    "kernelspec": {
      "name": "python3",
      "display_name": "Python 3"
    },
    "language_info": {
      "name": "python"
    }
  },
  "cells": [
    {
      "cell_type": "markdown",
      "metadata": {
        "id": "view-in-github",
        "colab_type": "text"
      },
      "source": [
        "<a href=\"https://colab.research.google.com/github/TanuAgarwal741/Tanu-Agarwal/blob/main/tuple.ipynb\" target=\"_parent\"><img src=\"https://colab.research.google.com/assets/colab-badge.svg\" alt=\"Open In Colab\"/></a>"
      ]
    },
    {
      "cell_type": "code",
      "execution_count": 4,
      "metadata": {
        "colab": {
          "base_uri": "https://localhost:8080/"
        },
        "id": "QYDNq1CdjLvH",
        "outputId": "31fc725a-dc19-495e-e448-099ddccbe5fe"
      },
      "outputs": [
        {
          "output_type": "stream",
          "name": "stdout",
          "text": [
            "enter no of elements you want to enter:3\n",
            "naman\n",
            "['naman']\n",
            "naman\n",
            "tanu\n",
            "['naman', 'tanu']\n",
            "naman\n",
            "sejal\n",
            "['naman', 'tanu', 'sejal']\n",
            "naman\n"
          ]
        }
      ],
      "source": [
        "list=[]\n",
        "n=int(input(\"enter no of elements you want to enter:\"))\n",
        "for i in range(n):\n",
        "  num=input()\n",
        "  list.append(num)\n",
        "  print(list)\n",
        "\n",
        "  for a in list:\n",
        "    length=len(a)\n",
        "    if length>2:\n",
        "      if a[0]==a[length-1]:\n",
        "        print(a)"
      ]
    },
    {
      "cell_type": "code",
      "source": [
        "tuple=(\"tanu\",\",\")\n",
        "print(tuple)"
      ],
      "metadata": {
        "colab": {
          "base_uri": "https://localhost:8080/"
        },
        "id": "AbBJPoVfl3nD",
        "outputId": "312623d1-97b8-4841-d4f5-fc0fbeedec85"
      },
      "execution_count": 8,
      "outputs": [
        {
          "output_type": "stream",
          "name": "stdout",
          "text": [
            "('tanu', ',')\n"
          ]
        }
      ]
    },
    {
      "cell_type": "code",
      "source": [
        "tuple=(\"tanu\",\"sejal\",\"isha\")\n",
        "a=tuple[0]\n",
        "print(a)"
      ],
      "metadata": {
        "colab": {
          "base_uri": "https://localhost:8080/"
        },
        "id": "8bTOswVimkqz",
        "outputId": "c9527ab5-de48-48f0-a9c4-6389b5ac196a"
      },
      "execution_count": 18,
      "outputs": [
        {
          "output_type": "stream",
          "name": "stdout",
          "text": [
            "tanu\n"
          ]
        }
      ]
    },
    {
      "cell_type": "code",
      "source": [
        "fruits=(\"apple\",\"banana\",\"mango\")\n",
        "fruit=list(fruits)\n",
        "print(fruit)\n",
        "fruit.append(\"cherry\")\n",
        "fruits=tuple(fruits)\n",
        "print(fruit)\n",
        "\n"
      ],
      "metadata": {
        "colab": {
          "base_uri": "https://localhost:8080/",
          "height": 245
        },
        "id": "MnPeQDdyoFTZ",
        "outputId": "708f47bb-94c4-405e-c5b6-1fa579c58340"
      },
      "execution_count": 26,
      "outputs": [
        {
          "output_type": "error",
          "ename": "TypeError",
          "evalue": "'list' object is not callable",
          "traceback": [
            "\u001b[0;31m---------------------------------------------------------------------------\u001b[0m",
            "\u001b[0;31mTypeError\u001b[0m                                 Traceback (most recent call last)",
            "\u001b[0;32m<ipython-input-26-4318f31e14b2>\u001b[0m in \u001b[0;36m<cell line: 2>\u001b[0;34m()\u001b[0m\n\u001b[1;32m      1\u001b[0m \u001b[0mfruits\u001b[0m\u001b[0;34m=\u001b[0m\u001b[0;34m(\u001b[0m\u001b[0;34m\"apple\"\u001b[0m\u001b[0;34m,\u001b[0m\u001b[0;34m\"banana\"\u001b[0m\u001b[0;34m,\u001b[0m\u001b[0;34m\"mango\"\u001b[0m\u001b[0;34m)\u001b[0m\u001b[0;34m\u001b[0m\u001b[0;34m\u001b[0m\u001b[0m\n\u001b[0;32m----> 2\u001b[0;31m \u001b[0mfruit\u001b[0m\u001b[0;34m=\u001b[0m\u001b[0mlist\u001b[0m\u001b[0;34m(\u001b[0m\u001b[0mfruits\u001b[0m\u001b[0;34m)\u001b[0m\u001b[0;34m\u001b[0m\u001b[0;34m\u001b[0m\u001b[0m\n\u001b[0m\u001b[1;32m      3\u001b[0m \u001b[0mprint\u001b[0m\u001b[0;34m(\u001b[0m\u001b[0mfruit\u001b[0m\u001b[0;34m)\u001b[0m\u001b[0;34m\u001b[0m\u001b[0;34m\u001b[0m\u001b[0m\n\u001b[1;32m      4\u001b[0m \u001b[0mfruit\u001b[0m\u001b[0;34m.\u001b[0m\u001b[0mappend\u001b[0m\u001b[0;34m(\u001b[0m\u001b[0;34m\"cherry\"\u001b[0m\u001b[0;34m)\u001b[0m\u001b[0;34m\u001b[0m\u001b[0;34m\u001b[0m\u001b[0m\n\u001b[1;32m      5\u001b[0m \u001b[0mfruits\u001b[0m\u001b[0;34m=\u001b[0m\u001b[0mtuple\u001b[0m\u001b[0;34m(\u001b[0m\u001b[0mfruits\u001b[0m\u001b[0;34m)\u001b[0m\u001b[0;34m\u001b[0m\u001b[0;34m\u001b[0m\u001b[0m\n",
            "\u001b[0;31mTypeError\u001b[0m: 'list' object is not callable"
          ]
        }
      ]
    },
    {
      "cell_type": "code",
      "source": [
        "fruits=(\"apple\",\"banana\",\"mango\")\n",
        "fruit=list(fruits)\n",
        "print(fruit)\n",
        "fruit.extend(\"cherry\")\n",
        "fruits=tuple(fruits)\n",
        "print(fruit)"
      ],
      "metadata": {
        "colab": {
          "base_uri": "https://localhost:8080/"
        },
        "id": "8NyRsmEyzkKG",
        "outputId": "e7ccc34f-204e-4e60-d591-118c101703f6"
      },
      "execution_count": 11,
      "outputs": [
        {
          "output_type": "stream",
          "name": "stdout",
          "text": [
            "['apple', 'banana', 'mango']\n",
            "['apple', 'banana', 'mango', 'c', 'h', 'e', 'r', 'r', 'y']\n"
          ]
        }
      ]
    },
    {
      "cell_type": "code",
      "source": [
        "fruits=(\"apple\",\"banana\",\"mango\")\n",
        "fruit=list(fruits)\n",
        "print(fruit)\n",
        "fruit.remove(\"banana\")\n",
        "fruits=tuple(fruits)\n",
        "print(fruit)"
      ],
      "metadata": {
        "colab": {
          "base_uri": "https://localhost:8080/"
        },
        "id": "nmGj5-d7zuJi",
        "outputId": "952719d4-3b6e-4f3d-f8a2-615c5566702a"
      },
      "execution_count": 12,
      "outputs": [
        {
          "output_type": "stream",
          "name": "stdout",
          "text": [
            "['apple', 'banana', 'mango']\n",
            "['apple', 'mango']\n"
          ]
        }
      ]
    },
    {
      "cell_type": "code",
      "source": [
        "fruits=(\"apple\",\"banana\",\"mango\")\n",
        "fruit=list(fruits)\n",
        "print(fruit)\n",
        "fruit.pop(1)\n",
        "fruits=tuple(fruits)\n",
        "print(fruit)"
      ],
      "metadata": {
        "colab": {
          "base_uri": "https://localhost:8080/"
        },
        "id": "-3y9cUodz2Nt",
        "outputId": "b35f7358-35b8-4f0a-85a8-6564bbc59a85"
      },
      "execution_count": 15,
      "outputs": [
        {
          "output_type": "stream",
          "name": "stdout",
          "text": [
            "['apple', 'banana', 'mango']\n",
            "['apple', 'mango']\n"
          ]
        }
      ]
    },
    {
      "cell_type": "code",
      "source": [
        "fruits=(\"apple\",\"banana\",\"mango\")\n",
        "fruit=list(fruits)\n",
        "print(fruit)\n",
        "fruit.clear()\n",
        "fruits=tuple(fruits)\n",
        "print(fruit)"
      ],
      "metadata": {
        "colab": {
          "base_uri": "https://localhost:8080/"
        },
        "id": "uK-hiS9i0nsj",
        "outputId": "7175a0dc-dca1-4903-c6ed-0221edf43577"
      },
      "execution_count": 17,
      "outputs": [
        {
          "output_type": "stream",
          "name": "stdout",
          "text": [
            "['apple', 'banana', 'mango']\n",
            "[]\n"
          ]
        }
      ]
    },
    {
      "cell_type": "code",
      "source": [
        "fruits=(\"apple\",\"banana\",\"mango\")\n",
        "print(fruits)\n",
        "fruit=list(fruits)\n",
        "print(fruit)\n",
        "del fruit\n",
        "print(\"done\")"
      ],
      "metadata": {
        "colab": {
          "base_uri": "https://localhost:8080/"
        },
        "id": "KTS_e2Od1DiB",
        "outputId": "488de870-b05e-4a0a-8841-4172b3ab9f70"
      },
      "execution_count": 27,
      "outputs": [
        {
          "output_type": "stream",
          "name": "stdout",
          "text": [
            "('apple', 'banana', 'mango')\n",
            "['apple', 'banana', 'mango']\n",
            "done\n"
          ]
        }
      ]
    },
    {
      "cell_type": "code",
      "source": [
        "fruits=(\"apple\",\"banana\",\"mango\")\n",
        "fruit=list(fruits)\n",
        "print(fruit)\n",
        "fruit.insert(3,\"banana\")\n",
        "fruits=tuple(fruits)\n",
        "print(fruit)"
      ],
      "metadata": {
        "colab": {
          "base_uri": "https://localhost:8080/"
        },
        "id": "qdcxY0cr17vw",
        "outputId": "89a87544-77c2-4413-912d-6fc46cfc75f2"
      },
      "execution_count": 29,
      "outputs": [
        {
          "output_type": "stream",
          "name": "stdout",
          "text": [
            "['apple', 'banana', 'mango']\n",
            "['apple', 'banana', 'mango', 'banana']\n"
          ]
        }
      ]
    },
    {
      "cell_type": "code",
      "source": [
        "fruits=(\"kiwi\",\"apple\",\"mango\",\"kiwi\")\n",
        "res=[]\n",
        "for i in range(len(fruits)):\n",
        "  my_fruit=fruits[i]\n",
        "  count=0\n",
        "  for j in range(len(fruits)):\n",
        "   if j==1:\n",
        "    continue\n",
        "  if fruits[j]==fruits[i]:\n",
        "      count+=1\n",
        "  if count>0:\n",
        "   if my_fruit not in res:\n",
        "          res.append(my_fruit)\n",
        "print(res)\n"
      ],
      "metadata": {
        "colab": {
          "base_uri": "https://localhost:8080/"
        },
        "id": "0mRuJMb_q8kc",
        "outputId": "44f204b9-ee0e-4486-ab87-057c10e80088"
      },
      "execution_count": 9,
      "outputs": [
        {
          "output_type": "stream",
          "name": "stdout",
          "text": [
            "['kiwi']\n"
          ]
        }
      ]
    }
  ]
}