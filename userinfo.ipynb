{
  "nbformat": 4,
  "nbformat_minor": 0,
  "metadata": {
    "colab": {
      "provenance": [],
      "authorship_tag": "ABX9TyN5Zw8i16bk+4phYbKeye6a",
      "include_colab_link": true
    },
    "kernelspec": {
      "name": "python3",
      "display_name": "Python 3"
    },
    "language_info": {
      "name": "python"
    }
  },
  "cells": [
    {
      "cell_type": "markdown",
      "metadata": {
        "id": "view-in-github",
        "colab_type": "text"
      },
      "source": [
        "<a href=\"https://colab.research.google.com/github/TanuAgarwal741/Tanu-Agarwal/blob/Tanu/userinfo.ipynb\" target=\"_parent\"><img src=\"https://colab.research.google.com/assets/colab-badge.svg\" alt=\"Open In Colab\"/></a>"
      ]
    },
    {
      "cell_type": "code",
      "source": [],
      "metadata": {
        "id": "_Wu3xfOVqSmc"
      },
      "execution_count": null,
      "outputs": []
    },
    {
      "cell_type": "code",
      "execution_count": null,
      "metadata": {
        "colab": {
          "base_uri": "https://localhost:8080/"
        },
        "id": "LkS3tq9Tppgl",
        "outputId": "7dd4de1e-ca92-4b5d-b680-d493835e3bc6"
      },
      "outputs": [
        {
          "output_type": "stream",
          "name": "stdout",
          "text": [
            "Enter how many names you want to enter: 2\n",
            "Enter name of friend: TANU\n",
            "Enter name of friend: SEJAL\n",
            "Enter phone number: 8824997709\n",
            "{'SEJAL': '8824997709'}\n",
            "Modified dictionary  {'SEJAL': '8824997709', 'Arun': '9877666234'}\n",
            "False\n",
            "dictionary in sorted order\n",
            "('SEJAL', '9456356344') "
          ]
        }
      ],
      "source": [
        "n = int(input(\"Enter how many names you want to enter: \"))\n",
        "# initialize empty dictionary\n",
        "names={}\n",
        "for i in range(n):\n",
        " name=input(\"Enter name of friend: \")\n",
        "number=input(\"Enter phone number: \")\n",
        "names[name]=number #add name number to dictionary\n",
        "print(names)\n",
        "names[\"Arun\"]=\"9877666234\" #add new item\n",
        "print(\"Modified dictionary \",names)\n",
        "del names[\"Arun\"] #delete an item\n",
        "for name in names: #modify first key value\n",
        " names[name] = \"9456356344\"\n",
        " break\n",
        "print(\"Amit\" in names)\n",
        "print(\"dictionary in sorted order\")\n",
        "for i in sorted (names) : #sort the dictionary\n",
        " print((i, names[i]), end =\" \")"
      ]
    }
  ]
}