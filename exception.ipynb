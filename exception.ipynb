{
  "nbformat": 4,
  "nbformat_minor": 0,
  "metadata": {
    "colab": {
      "provenance": [],
      "authorship_tag": "ABX9TyPV17tcS1JtiwJ2eXWBk3x2",
      "include_colab_link": true
    },
    "kernelspec": {
      "name": "python3",
      "display_name": "Python 3"
    },
    "language_info": {
      "name": "python"
    }
  },
  "cells": [
    {
      "cell_type": "markdown",
      "metadata": {
        "id": "view-in-github",
        "colab_type": "text"
      },
      "source": [
        "<a href=\"https://colab.research.google.com/github/TanuAgarwal741/Tanu-Agarwal/blob/main/exception.ipynb\" target=\"_parent\"><img src=\"https://colab.research.google.com/assets/colab-badge.svg\" alt=\"Open In Colab\"/></a>"
      ]
    },
    {
      "cell_type": "code",
      "execution_count": 1,
      "metadata": {
        "colab": {
          "base_uri": "https://localhost:8080/"
        },
        "id": "oVgR4pqBU-Rw",
        "outputId": "b5673e9e-d9d8-4f8a-8224-6d419402f961"
      },
      "outputs": [
        {
          "output_type": "stream",
          "name": "stdout",
          "text": [
            "invalid program\n"
          ]
        }
      ],
      "source": [
        "try:\n",
        "  print(a==0)\n",
        "except:\n",
        "  print(\"invalid program\")"
      ]
    },
    {
      "cell_type": "code",
      "source": [
        "try:\n",
        "  print(a==0)\n",
        "except NameError:\n",
        "  print(\"variable a is not define\")\n",
        "except:\n",
        "  print(\"error occured\")"
      ],
      "metadata": {
        "colab": {
          "base_uri": "https://localhost:8080/"
        },
        "id": "kCSWeEVSYXDV",
        "outputId": "d584d064-944a-4614-8e68-473aa885b9fa"
      },
      "execution_count": 12,
      "outputs": [
        {
          "output_type": "stream",
          "name": "stdout",
          "text": [
            "variable a is not define\n"
          ]
        }
      ]
    },
    {
      "cell_type": "code",
      "source": [
        "x = \"hello\"\n",
        "try:\n",
        "  print(a==0)\n",
        "except:\n",
        "  print(\"invalid\")\n",
        "if not type(x) is int:\n",
        " raise TypeError(\"Only integers are allowed\")"
      ],
      "metadata": {
        "colab": {
          "base_uri": "https://localhost:8080/",
          "height": 227
        },
        "id": "1iKVbMBqZzmT",
        "outputId": "5fcf7b54-5802-4c46-c5b5-3a07cf13cd46"
      },
      "execution_count": 36,
      "outputs": [
        {
          "output_type": "stream",
          "name": "stdout",
          "text": [
            "invalid\n"
          ]
        },
        {
          "output_type": "error",
          "ename": "TypeError",
          "evalue": "Only integers are allowed",
          "traceback": [
            "\u001b[0;31m---------------------------------------------------------------------------\u001b[0m",
            "\u001b[0;31mTypeError\u001b[0m                                 Traceback (most recent call last)",
            "\u001b[0;32m<ipython-input-36-7a5ab05871ce>\u001b[0m in \u001b[0;36m<cell line: 6>\u001b[0;34m()\u001b[0m\n\u001b[1;32m      5\u001b[0m   \u001b[0mprint\u001b[0m\u001b[0;34m(\u001b[0m\u001b[0;34m\"invalid\"\u001b[0m\u001b[0;34m)\u001b[0m\u001b[0;34m\u001b[0m\u001b[0;34m\u001b[0m\u001b[0m\n\u001b[1;32m      6\u001b[0m \u001b[0;32mif\u001b[0m \u001b[0;32mnot\u001b[0m \u001b[0mtype\u001b[0m\u001b[0;34m(\u001b[0m\u001b[0mx\u001b[0m\u001b[0;34m)\u001b[0m \u001b[0;32mis\u001b[0m \u001b[0mint\u001b[0m\u001b[0;34m:\u001b[0m\u001b[0;34m\u001b[0m\u001b[0;34m\u001b[0m\u001b[0m\n\u001b[0;32m----> 7\u001b[0;31m  \u001b[0;32mraise\u001b[0m \u001b[0mTypeError\u001b[0m\u001b[0;34m(\u001b[0m\u001b[0;34m\"Only integers are allowed\"\u001b[0m\u001b[0;34m)\u001b[0m\u001b[0;34m\u001b[0m\u001b[0;34m\u001b[0m\u001b[0m\n\u001b[0m",
            "\u001b[0;31mTypeError\u001b[0m: Only integers are allowed"
          ]
        }
      ]
    },
    {
      "cell_type": "code",
      "source": [
        "from logging import exception\n",
        "a=8\n",
        "a=int(a)\n",
        "for i in range(a):\n",
        " try:\n",
        "  if i==5:\n",
        "   raise Exception(\"invalid\")\n",
        " except Exception as e:\n",
        "   print(e)\n",
        "   print(\"s is created\")"
      ],
      "metadata": {
        "colab": {
          "base_uri": "https://localhost:8080/"
        },
        "id": "9QsQh9SKczbl",
        "outputId": "096ff3ff-6cea-48e8-d261-95a20637edf2"
      },
      "execution_count": 56,
      "outputs": [
        {
          "output_type": "stream",
          "name": "stdout",
          "text": [
            "invalid\n",
            "s is created\n"
          ]
        }
      ]
    },
    {
      "cell_type": "code",
      "source": [
        "try:\n",
        "  print(a==0)\n",
        "except:\n",
        "  print(\"variable a is not define\")\n",
        "finally:\n",
        "  print(\"error occured\")"
      ],
      "metadata": {
        "colab": {
          "base_uri": "https://localhost:8080/"
        },
        "id": "6o2YYcHbfP8Y",
        "outputId": "4cb04a91-1320-4c0f-e993-3a34b9d6cb16"
      },
      "execution_count": 58,
      "outputs": [
        {
          "output_type": "stream",
          "name": "stdout",
          "text": [
            "False\n",
            "error occured\n"
          ]
        }
      ]
    },
    {
      "cell_type": "code",
      "source": [
        "from logging import exception\n",
        "a=8\n",
        "a=int(a)\n",
        "for i in range(a):\n",
        " try:\n",
        "  if i==5:\n",
        "   raise Exception(\"invalid\")\n",
        " except Exception as e:\n",
        "   print(e)\n",
        "   print(\"s is created\")\n",
        " else:\n",
        "    print(\"correct\")\n",
        " finally:\n",
        "    print(i)"
      ],
      "metadata": {
        "colab": {
          "base_uri": "https://localhost:8080/"
        },
        "id": "4G0xNeF9fe7m",
        "outputId": "6572a34b-e02d-4978-94a3-6ff96d2a33c8"
      },
      "execution_count": 65,
      "outputs": [
        {
          "output_type": "stream",
          "name": "stdout",
          "text": [
            "correct\n",
            "0\n",
            "correct\n",
            "1\n",
            "correct\n",
            "2\n",
            "correct\n",
            "3\n",
            "correct\n",
            "4\n",
            "invalid\n",
            "s is created\n",
            "5\n",
            "correct\n",
            "6\n",
            "correct\n",
            "7\n"
          ]
        }
      ]
    }
  ]
}