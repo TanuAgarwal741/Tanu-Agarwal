{
  "nbformat": 4,
  "nbformat_minor": 0,
  "metadata": {
    "colab": {
      "provenance": [],
      "authorship_tag": "ABX9TyMaqmEIxi0w1G5PF3C67pqB",
      "include_colab_link": true
    },
    "kernelspec": {
      "name": "python3",
      "display_name": "Python 3"
    },
    "language_info": {
      "name": "python"
    }
  },
  "cells": [
    {
      "cell_type": "markdown",
      "metadata": {
        "id": "view-in-github",
        "colab_type": "text"
      },
      "source": [
        "<a href=\"https://colab.research.google.com/github/TanuAgarwal741/Tanu-Agarwal/blob/Tanu/get.ipynb\" target=\"_parent\"><img src=\"https://colab.research.google.com/assets/colab-badge.svg\" alt=\"Open In Colab\"/></a>"
      ]
    },
    {
      "cell_type": "code",
      "execution_count": 9,
      "metadata": {
        "colab": {
          "base_uri": "https://localhost:8080/",
          "height": 106
        },
        "id": "eclgTz9Yxne3",
        "outputId": "1408b5e1-cca5-490f-e327-debd8a0643e5"
      },
      "outputs": [
        {
          "output_type": "error",
          "ename": "IndentationError",
          "evalue": "unexpected indent (<ipython-input-9-96af2ba17232>, line 2)",
          "traceback": [
            "\u001b[0;36m  File \u001b[0;32m\"<ipython-input-9-96af2ba17232>\"\u001b[0;36m, line \u001b[0;32m2\u001b[0m\n\u001b[0;31m    urlopen('http://geeksforgeeks.com')\u001b[0m\n\u001b[0m    ^\u001b[0m\n\u001b[0;31mIndentationError\u001b[0m\u001b[0;31m:\u001b[0m unexpected indent\n"
          ]
        }
      ],
      "source": [
        "import urllib\n",
        "urlopen('http://geeksforgeeks.com')"
      ]
    },
    {
      "cell_type": "code",
      "source": [
        "import urllib.request\n",
        "with urllib.request.urlopen('http://python.org/') as response:\n",
        "   html = response.read()"
      ],
      "metadata": {
        "id": "HqUmayTEyvga"
      },
      "execution_count": 11,
      "outputs": []
    },
    {
      "cell_type": "code",
      "source": [
        "import urllib.request\n",
        "\n",
        "webUrl=urllib.request.urlopen('https://www.python.org/')\n",
        "\n",
        "print(\"result: \"+str(webUrl.getcode()))"
      ],
      "metadata": {
        "colab": {
          "base_uri": "https://localhost:8080/"
        },
        "id": "j3oI0nmt0Y0H",
        "outputId": "9ecbf441-ffa8-4f7b-928e-8d0e19ff2e0c"
      },
      "execution_count": 18,
      "outputs": [
        {
          "output_type": "stream",
          "name": "stdout",
          "text": [
            "result: 200\n"
          ]
        }
      ]
    },
    {
      "cell_type": "code",
      "source": [
        "# import requests module\n",
        "import urllib.request\n",
        "\n",
        "# Making a get request\n",
        "response = requests.get('https://api.geeksforgeeks.com')\n",
        "\n",
        "# print response\n",
        "print(response)\n",
        "\n",
        "# print headers of response\n",
        "print(response.headers)\n"
      ],
      "metadata": {
        "colab": {
          "base_uri": "https://localhost:8080/"
        },
        "id": "_p54dZDC3J56",
        "outputId": "d4f48da5-a837-4061-9068-020a58215e75"
      },
      "execution_count": 28,
      "outputs": [
        {
          "output_type": "stream",
          "name": "stdout",
          "text": [
            "<Response [200]>\n",
            "{'Date': 'Wed, 14 Feb 2024 04:32:23 GMT', 'Content-Type': 'text/html; charset=utf-8', 'Content-Length': '1062', 'X-Request-Id': '09e77d1e-8226-42b9-a111-7f0f44fd0454', 'Cache-Control': 'no-store, max-age=0', 'Accept-Ch': 'sec-ch-prefers-color-scheme', 'Critical-Ch': 'sec-ch-prefers-color-scheme', 'Vary': 'sec-ch-prefers-color-scheme', 'X-Adblock-Key': 'MFwwDQYJKoZIhvcNAQEBBQADSwAwSAJBANDrp2lz7AOmADaN8tA50LsWcjLFyQFcb/P2Txc58oYOeILb3vBw7J6f4pamkAQVSQuqYsKx3YzdUHCvbVZvFUsCAwEAAQ==_qUHIgKcjRPeMnIyQB/Lda8Ar7qvJR6cb664ATWJ7zOPeO7LbNHy5pGbDXQuQ9jtyi8eDMUlKIHIkFAEkm+80ag==', 'Set-Cookie': 'parking_session=09e77d1e-8226-42b9-a111-7f0f44fd0454; expires=Wed, 14 Feb 2024 04:47:24 GMT; path=/', 'Connection': 'close'}\n"
          ]
        }
      ]
    },
    {
      "cell_type": "code",
      "source": [
        "import urllib.request\n",
        "\n",
        "req = urllib.request.Request('http://python.org/')\n",
        "with urllib.request.urlopen(req) as response:\n",
        "   the_page = response.read()\n",
        "   print(response)\n",
        "   print(response.url)"
      ],
      "metadata": {
        "colab": {
          "base_uri": "https://localhost:8080/"
        },
        "id": "6lzs1VjI5KcG",
        "outputId": "4968bb27-379b-4ca8-ca4a-969029c6f8c9"
      },
      "execution_count": 31,
      "outputs": [
        {
          "output_type": "stream",
          "name": "stdout",
          "text": [
            "<http.client.HTTPResponse object at 0x7e96c672bc40>\n",
            "https://www.python.org/\n"
          ]
        }
      ]
    },
    {
      "cell_type": "code",
      "source": [
        "import urllib.parse\n",
        "import urllib.request\n",
        "\n",
        "url = 'http://www.someserver.com/cgi-bin/register.cgi'\n",
        "user_agent = 'Mozilla/5.0 (Windows NT 6.1; Win64; x64)'\n",
        "values = {'name': 'Michael Foord',\n",
        "          'location': 'Northampton',\n",
        "          'language': 'Python' }\n",
        "headers = {'User-Agent': user_agent}\n",
        "\n",
        "data = urllib.parse.urlencode(values)\n",
        "data = data.encode('ascii')\n",
        "req = urllib.request.Request(url, data, headers)\n",
        "with urllib.request.urlopen(req) as response:\n",
        "   the_page = response.read()\n",
        "   print(response)\n",
        "   print(response.headers)"
      ],
      "metadata": {
        "colab": {
          "base_uri": "https://localhost:8080/"
        },
        "id": "2wvkOYIh5uBD",
        "outputId": "5d48b649-f41e-4acc-83a2-c88eb4c54a1a"
      },
      "execution_count": 33,
      "outputs": [
        {
          "output_type": "stream",
          "name": "stdout",
          "text": [
            "<http.client.HTTPResponse object at 0x7e96c67c8f40>\n",
            "Date: Wed, 14 Feb 2024 04:35:53 GMT\n",
            "Content-Type: text/html; charset=UTF-8\n",
            "Transfer-Encoding: chunked\n",
            "Connection: close\n",
            "Set-Cookie: AWSALB=oDP/jAI8ZbEBCFAe84XA6MkNV67bFccyDLNhMlMv+VLMVoMwQrwXFLakA4S1F+gH19jxF/uYRkPBbWomIA4LbvmnBOjDoTKRE2b1fWCHrG4vgqLosmJ355YwEhNS; Expires=Wed, 21 Feb 2024 04:35:53 GMT; Path=/\n",
            "Set-Cookie: AWSALBCORS=oDP/jAI8ZbEBCFAe84XA6MkNV67bFccyDLNhMlMv+VLMVoMwQrwXFLakA4S1F+gH19jxF/uYRkPBbWomIA4LbvmnBOjDoTKRE2b1fWCHrG4vgqLosmJ355YwEhNS; Expires=Wed, 21 Feb 2024 04:35:53 GMT; Path=/; SameSite=None\n",
            "Set-Cookie: PHPSESSID=4lnlluru9ubgr9tmbemvm2vbqu; path=/\n",
            "Expires: Thu, 19 Nov 1981 08:52:00 GMT\n",
            "Cache-Control: no-store, no-cache, must-revalidate\n",
            "Pragma: no-cache\n",
            "Vary: Accept-Encoding\n",
            "X-XYZ-SRV: web2\n",
            "X-XYZ-Runtime: D=11095\n",
            "CF-Cache-Status: DYNAMIC\n",
            "Report-To: {\"endpoints\":[{\"url\":\"https:\\/\\/a.nel.cloudflare.com\\/report\\/v3?s=MNei0foxr3NBUYON%2F9h%2FEcoSkwpKPNxLaorNoT3Cmu4%2F5XGrY%2BhMLmx%2B2OjgTd%2FhkUAg322o624eHyoIdPs%2Bq16uhRRe1fH5cysTaE3h9%2FoUtulTZDE21Lq4emjc9HpSYE6a\"}],\"group\":\"cf-nel\",\"max_age\":604800}\n",
            "NEL: {\"success_fraction\":0,\"report_to\":\"cf-nel\",\"max_age\":604800}\n",
            "Server: cloudflare\n",
            "CF-RAY: 85529b623d63573a-IAD\n",
            "\n",
            "\n"
          ]
        }
      ]
    },
    {
      "cell_type": "code",
      "source": [
        "import requests\n",
        "\n",
        "url = 'https://www.w3schools.com/python/demopage.php'\n",
        "myobj = {'somekey': 'somevalue'}\n",
        "\n",
        "x = requests.post(url, json = myobj)\n",
        "\n",
        "print(x.text)"
      ],
      "metadata": {
        "colab": {
          "base_uri": "https://localhost:8080/"
        },
        "id": "nquzyqkD76Yb",
        "outputId": "87296fc7-7a69-4c5f-b9e4-3fe2e835d5fd"
      },
      "execution_count": 34,
      "outputs": [
        {
          "output_type": "stream",
          "name": "stdout",
          "text": [
            "\n"
          ]
        }
      ]
    },
    {
      "cell_type": "code",
      "source": [],
      "metadata": {
        "id": "LDsFpkw69I40"
      },
      "execution_count": null,
      "outputs": []
    }
  ]
}