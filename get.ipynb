{
  "nbformat": 4,
  "nbformat_minor": 0,
  "metadata": {
    "colab": {
      "provenance": [],
      "authorship_tag": "ABX9TyMvpUa9VecWjRbiB3GxmsQt",
      "include_colab_link": true
    },
    "kernelspec": {
      "name": "python3",
      "display_name": "Python 3"
    },
    "language_info": {
      "name": "python"
    }
  },
  "cells": [
    {
      "cell_type": "markdown",
      "metadata": {
        "id": "view-in-github",
        "colab_type": "text"
      },
      "source": [
        "<a href=\"https://colab.research.google.com/github/TanuAgarwal741/Tanu-Agarwal/blob/Tanu/get.ipynb\" target=\"_parent\"><img src=\"https://colab.research.google.com/assets/colab-badge.svg\" alt=\"Open In Colab\"/></a>"
      ]
    },
    {
      "cell_type": "code",
      "execution_count": null,
      "metadata": {
        "colab": {
          "base_uri": "https://localhost:8080/",
          "height": 106
        },
        "id": "eclgTz9Yxne3",
        "outputId": "1408b5e1-cca5-490f-e327-debd8a0643e5"
      },
      "outputs": [
        {
          "output_type": "error",
          "ename": "IndentationError",
          "evalue": "unexpected indent (<ipython-input-9-96af2ba17232>, line 2)",
          "traceback": [
            "\u001b[0;36m  File \u001b[0;32m\"<ipython-input-9-96af2ba17232>\"\u001b[0;36m, line \u001b[0;32m2\u001b[0m\n\u001b[0;31m    urlopen('http://geeksforgeeks.com')\u001b[0m\n\u001b[0m    ^\u001b[0m\n\u001b[0;31mIndentationError\u001b[0m\u001b[0;31m:\u001b[0m unexpected indent\n"
          ]
        }
      ],
      "source": [
        "import urllib\n",
        "urlopen('http://geeksforgeeks.com')"
      ]
    },
    {
      "cell_type": "code",
      "source": [
        "import urllib.request\n",
        "with urllib.request.urlopen('http://python.org/') as response:\n",
        "   html = response.read()"
      ],
      "metadata": {
        "id": "HqUmayTEyvga"
      },
      "execution_count": null,
      "outputs": []
    },
    {
      "cell_type": "code",
      "source": [
        "import urllib.request\n",
        "\n",
        "webUrl=urllib.request.urlopen('https://www.python.org/')\n",
        "\n",
        "print(\"result: \"+str(webUrl.getcode()))"
      ],
      "metadata": {
        "colab": {
          "base_uri": "https://localhost:8080/"
        },
        "id": "j3oI0nmt0Y0H",
        "outputId": "9ecbf441-ffa8-4f7b-928e-8d0e19ff2e0c"
      },
      "execution_count": null,
      "outputs": [
        {
          "output_type": "stream",
          "name": "stdout",
          "text": [
            "result: 200\n"
          ]
        }
      ]
    },
    {
      "cell_type": "code",
      "source": [
        "# import requests module\n",
        "import urllib.request\n",
        "\n",
        "# Making a get request\n",
        "response = requests.get('https://api.geeksforgeeks.com')\n",
        "\n",
        "# print response\n",
        "print(response)\n",
        "\n",
        "# print headers of response\n",
        "print(response.headers)\n"
      ],
      "metadata": {
        "colab": {
          "base_uri": "https://localhost:8080/"
        },
        "id": "_p54dZDC3J56",
        "outputId": "d4f48da5-a837-4061-9068-020a58215e75"
      },
      "execution_count": null,
      "outputs": [
        {
          "output_type": "stream",
          "name": "stdout",
          "text": [
            "<Response [200]>\n",
            "{'Date': 'Wed, 14 Feb 2024 04:32:23 GMT', 'Content-Type': 'text/html; charset=utf-8', 'Content-Length': '1062', 'X-Request-Id': '09e77d1e-8226-42b9-a111-7f0f44fd0454', 'Cache-Control': 'no-store, max-age=0', 'Accept-Ch': 'sec-ch-prefers-color-scheme', 'Critical-Ch': 'sec-ch-prefers-color-scheme', 'Vary': 'sec-ch-prefers-color-scheme', 'X-Adblock-Key': 'MFwwDQYJKoZIhvcNAQEBBQADSwAwSAJBANDrp2lz7AOmADaN8tA50LsWcjLFyQFcb/P2Txc58oYOeILb3vBw7J6f4pamkAQVSQuqYsKx3YzdUHCvbVZvFUsCAwEAAQ==_qUHIgKcjRPeMnIyQB/Lda8Ar7qvJR6cb664ATWJ7zOPeO7LbNHy5pGbDXQuQ9jtyi8eDMUlKIHIkFAEkm+80ag==', 'Set-Cookie': 'parking_session=09e77d1e-8226-42b9-a111-7f0f44fd0454; expires=Wed, 14 Feb 2024 04:47:24 GMT; path=/', 'Connection': 'close'}\n"
          ]
        }
      ]
    },
    {
      "cell_type": "code",
      "source": [
        "import urllib.request\n",
        "\n",
        "req = urllib.request.Request('http://python.org/')\n",
        "with urllib.request.urlopen(req) as response:\n",
        "   the_page = response.read()\n",
        "   print(response)\n",
        "   print(response.url)"
      ],
      "metadata": {
        "colab": {
          "base_uri": "https://localhost:8080/"
        },
        "id": "6lzs1VjI5KcG",
        "outputId": "4968bb27-379b-4ca8-ca4a-969029c6f8c9"
      },
      "execution_count": null,
      "outputs": [
        {
          "output_type": "stream",
          "name": "stdout",
          "text": [
            "<http.client.HTTPResponse object at 0x7e96c672bc40>\n",
            "https://www.python.org/\n"
          ]
        }
      ]
    },
    {
      "cell_type": "code",
      "source": [
        "import urllib.parse\n",
        "import urllib.request\n",
        "\n",
        "url = \"https://reqres.in/api/users/2\"\n",
        "# user_agent = 'Mozilla/5.0 (Windows NT 6.1; Win64; x64)'\n",
        "values = {\n",
        "            \"id\": 12,\n",
        "            \"email\": \"rachel.howell@reqres.in\",\n",
        "            \"first_name\": \"Rachel\",\n",
        "            \"last_name\": \"Howell\",\n",
        "            \"avatar\": \"https://reqres.in/img/faces/12-image.jpg\"\n",
        "         }\n",
        "headers = {'User-Agent': user_agent}\n",
        "\n",
        "data = urllib.parse.urlencode(values)\n",
        "data = data.encode('ascii')\n",
        "req = urllib.request.Request(url, data, headers)\n",
        "with urllib.request.urlopen(req) as response:\n",
        "   the_page = response.read()\n",
        "   print(response)\n",
        "   print(response.headers)"
      ],
      "metadata": {
        "colab": {
          "base_uri": "https://localhost:8080/"
        },
        "id": "2wvkOYIh5uBD",
        "outputId": "0ce3a826-25b2-4e90-c283-6031537ac54b"
      },
      "execution_count": 6,
      "outputs": [
        {
          "output_type": "stream",
          "name": "stdout",
          "text": [
            "<http.client.HTTPResponse object at 0x7b1fa7f53730>\n",
            "Date: Thu, 15 Feb 2024 04:01:38 GMT\n",
            "Content-Type: application/json; charset=utf-8\n",
            "Content-Length: 179\n",
            "Connection: close\n",
            "Report-To: {\"group\":\"heroku-nel\",\"max_age\":3600,\"endpoints\":[{\"url\":\"https://nel.heroku.com/reports?ts=1707969698&sid=c4c9725f-1ab0-44d8-820f-430df2718e11&s=fxyLMK392tIy8ZuUYPEMtA76gmh%2Be5LyoaCQjjXesMg%3D\"}]}\n",
            "Reporting-Endpoints: heroku-nel=https://nel.heroku.com/reports?ts=1707969698&sid=c4c9725f-1ab0-44d8-820f-430df2718e11&s=fxyLMK392tIy8ZuUYPEMtA76gmh%2Be5LyoaCQjjXesMg%3D\n",
            "Nel: {\"report_to\":\"heroku-nel\",\"max_age\":3600,\"success_fraction\":0.005,\"failure_fraction\":0.05,\"response_headers\":[\"Via\"]}\n",
            "X-Powered-By: Express\n",
            "Access-Control-Allow-Origin: *\n",
            "Etag: W/\"b3-5w/gAHD/AvNd5aH3TxjVdI7Ykqw\"\n",
            "Via: 1.1 vegur\n",
            "CF-Cache-Status: DYNAMIC\n",
            "Server: cloudflare\n",
            "CF-RAY: 855aa6943db9102e-LAX\n",
            "\n",
            "\n"
          ]
        }
      ]
    },
    {
      "cell_type": "code",
      "source": [
        "!pip install requests\n",
        "import requests\n",
        "\n",
        "response = requests.get('https://reqres.in/api/users?page=2')\n",
        "print('HTTP Response Code:',response.status_code)\n",
        "print('HTTP Response Headers:',response.headers)\n",
        "print('HTTP Response Content:',response.content)"
      ],
      "metadata": {
        "id": "g3X7baG89b6P",
        "outputId": "061141a0-61e1-47f6-cad0-a64c0d842c25",
        "colab": {
          "base_uri": "https://localhost:8080/"
        }
      },
      "execution_count": 11,
      "outputs": [
        {
          "output_type": "stream",
          "name": "stdout",
          "text": [
            "Requirement already satisfied: requests in /usr/local/lib/python3.10/dist-packages (2.31.0)\n",
            "Requirement already satisfied: charset-normalizer<4,>=2 in /usr/local/lib/python3.10/dist-packages (from requests) (3.3.2)\n",
            "Requirement already satisfied: idna<4,>=2.5 in /usr/local/lib/python3.10/dist-packages (from requests) (3.6)\n",
            "Requirement already satisfied: urllib3<3,>=1.21.1 in /usr/local/lib/python3.10/dist-packages (from requests) (2.0.7)\n",
            "Requirement already satisfied: certifi>=2017.4.17 in /usr/local/lib/python3.10/dist-packages (from requests) (2024.2.2)\n",
            "HTTP Response Code: 200\n",
            "HTTP Response Headers: {'Date': 'Thu, 15 Feb 2024 04:15:48 GMT', 'Content-Type': 'application/json; charset=utf-8', 'Transfer-Encoding': 'chunked', 'Connection': 'keep-alive', 'Report-To': '{\"group\":\"heroku-nel\",\"max_age\":3600,\"endpoints\":[{\"url\":\"https://nel.heroku.com/reports?ts=1705937721&sid=c4c9725f-1ab0-44d8-820f-430df2718e11&s=nECRqatS65CIgXjxVg%2B16ZQUaOKK3vsi%2BCRLT2nZ6bE%3D\"}]}', 'Reporting-Endpoints': 'heroku-nel=https://nel.heroku.com/reports?ts=1705937721&sid=c4c9725f-1ab0-44d8-820f-430df2718e11&s=nECRqatS65CIgXjxVg%2B16ZQUaOKK3vsi%2BCRLT2nZ6bE%3D', 'Nel': '{\"report_to\":\"heroku-nel\",\"max_age\":3600,\"success_fraction\":0.005,\"failure_fraction\":0.05,\"response_headers\":[\"Via\"]}', 'X-Powered-By': 'Express', 'Access-Control-Allow-Origin': '*', 'Etag': 'W/\"406-ut0vzoCuidvyMf8arZpMpJ6ZRDw\"', 'Via': '1.1 vegur', 'Cache-Control': 'max-age=14400', 'CF-Cache-Status': 'HIT', 'Age': '1541', 'Vary': 'Accept-Encoding', 'Server': 'cloudflare', 'CF-RAY': '855abb5a5e2678e5-LAX', 'Content-Encoding': 'gzip'}\n",
            "HTTP Response Content: b'{\"page\":2,\"per_page\":6,\"total\":12,\"total_pages\":2,\"data\":[{\"id\":7,\"email\":\"michael.lawson@reqres.in\",\"first_name\":\"Michael\",\"last_name\":\"Lawson\",\"avatar\":\"https://reqres.in/img/faces/7-image.jpg\"},{\"id\":8,\"email\":\"lindsay.ferguson@reqres.in\",\"first_name\":\"Lindsay\",\"last_name\":\"Ferguson\",\"avatar\":\"https://reqres.in/img/faces/8-image.jpg\"},{\"id\":9,\"email\":\"tobias.funke@reqres.in\",\"first_name\":\"Tobias\",\"last_name\":\"Funke\",\"avatar\":\"https://reqres.in/img/faces/9-image.jpg\"},{\"id\":10,\"email\":\"byron.fields@reqres.in\",\"first_name\":\"Byron\",\"last_name\":\"Fields\",\"avatar\":\"https://reqres.in/img/faces/10-image.jpg\"},{\"id\":11,\"email\":\"george.edwards@reqres.in\",\"first_name\":\"George\",\"last_name\":\"Edwards\",\"avatar\":\"https://reqres.in/img/faces/11-image.jpg\"},{\"id\":12,\"email\":\"rachel.howell@reqres.in\",\"first_name\":\"Rachel\",\"last_name\":\"Howell\",\"avatar\":\"https://reqres.in/img/faces/12-image.jpg\"}],\"support\":{\"url\":\"https://reqres.in/#support-heading\",\"text\":\"To keep ReqRes free, contributions towards server costs are appreciated!\"}}'\n"
          ]
        }
      ]
    },
    {
      "cell_type": "code",
      "source": [
        "import requests\n",
        "import json\n",
        "response = requests.get('https://reqres.in/api/users?page=2')\n",
        "print('HTTP Response Content:',response.content)\n",
        "a = json.loads(response.content)\n",
        "print(a[\"data\"][0][\"email\"])"
      ],
      "metadata": {
        "id": "Z2j2LXBb-3Un",
        "outputId": "960bb68f-fe9b-4a1b-8a9d-89120dabb516",
        "colab": {
          "base_uri": "https://localhost:8080/"
        }
      },
      "execution_count": 12,
      "outputs": [
        {
          "output_type": "stream",
          "name": "stdout",
          "text": [
            "HTTP Response Content: b'{\"page\":2,\"per_page\":6,\"total\":12,\"total_pages\":2,\"data\":[{\"id\":7,\"email\":\"michael.lawson@reqres.in\",\"first_name\":\"Michael\",\"last_name\":\"Lawson\",\"avatar\":\"https://reqres.in/img/faces/7-image.jpg\"},{\"id\":8,\"email\":\"lindsay.ferguson@reqres.in\",\"first_name\":\"Lindsay\",\"last_name\":\"Ferguson\",\"avatar\":\"https://reqres.in/img/faces/8-image.jpg\"},{\"id\":9,\"email\":\"tobias.funke@reqres.in\",\"first_name\":\"Tobias\",\"last_name\":\"Funke\",\"avatar\":\"https://reqres.in/img/faces/9-image.jpg\"},{\"id\":10,\"email\":\"byron.fields@reqres.in\",\"first_name\":\"Byron\",\"last_name\":\"Fields\",\"avatar\":\"https://reqres.in/img/faces/10-image.jpg\"},{\"id\":11,\"email\":\"george.edwards@reqres.in\",\"first_name\":\"George\",\"last_name\":\"Edwards\",\"avatar\":\"https://reqres.in/img/faces/11-image.jpg\"},{\"id\":12,\"email\":\"rachel.howell@reqres.in\",\"first_name\":\"Rachel\",\"last_name\":\"Howell\",\"avatar\":\"https://reqres.in/img/faces/12-image.jpg\"}],\"support\":{\"url\":\"https://reqres.in/#support-heading\",\"text\":\"To keep ReqRes free, contributions towards server costs are appreciated!\"}}'\n",
            "michael.lawson@reqres.in\n"
          ]
        }
      ]
    },
    {
      "cell_type": "code",
      "source": [
        "import requests\n",
        "import json\n",
        "response = requests.get('https://reqres.in/api/users?page=2')\n",
        "print('HTTP Response Content:',response.content)\n",
        "a = json.loads(response.content)\n",
        "for i in a[\"data\"]:\n",
        "  print(i[\"email\"])"
      ],
      "metadata": {
        "id": "bQhEuinNAR28",
        "outputId": "336ca825-7c98-470b-9ce9-dd15ffb651a1",
        "colab": {
          "base_uri": "https://localhost:8080/"
        }
      },
      "execution_count": 20,
      "outputs": [
        {
          "output_type": "stream",
          "name": "stdout",
          "text": [
            "HTTP Response Content: b'{\"page\":2,\"per_page\":6,\"total\":12,\"total_pages\":2,\"data\":[{\"id\":7,\"email\":\"michael.lawson@reqres.in\",\"first_name\":\"Michael\",\"last_name\":\"Lawson\",\"avatar\":\"https://reqres.in/img/faces/7-image.jpg\"},{\"id\":8,\"email\":\"lindsay.ferguson@reqres.in\",\"first_name\":\"Lindsay\",\"last_name\":\"Ferguson\",\"avatar\":\"https://reqres.in/img/faces/8-image.jpg\"},{\"id\":9,\"email\":\"tobias.funke@reqres.in\",\"first_name\":\"Tobias\",\"last_name\":\"Funke\",\"avatar\":\"https://reqres.in/img/faces/9-image.jpg\"},{\"id\":10,\"email\":\"byron.fields@reqres.in\",\"first_name\":\"Byron\",\"last_name\":\"Fields\",\"avatar\":\"https://reqres.in/img/faces/10-image.jpg\"},{\"id\":11,\"email\":\"george.edwards@reqres.in\",\"first_name\":\"George\",\"last_name\":\"Edwards\",\"avatar\":\"https://reqres.in/img/faces/11-image.jpg\"},{\"id\":12,\"email\":\"rachel.howell@reqres.in\",\"first_name\":\"Rachel\",\"last_name\":\"Howell\",\"avatar\":\"https://reqres.in/img/faces/12-image.jpg\"}],\"support\":{\"url\":\"https://reqres.in/#support-heading\",\"text\":\"To keep ReqRes free, contributions towards server costs are appreciated!\"}}'\n",
            "michael.lawson@reqres.in\n",
            "lindsay.ferguson@reqres.in\n",
            "tobias.funke@reqres.in\n",
            "byron.fields@reqres.in\n",
            "george.edwards@reqres.in\n",
            "rachel.howell@reqres.in\n"
          ]
        }
      ]
    }
  ]
}