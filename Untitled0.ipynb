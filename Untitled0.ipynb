{
  "nbformat": 4,
  "nbformat_minor": 0,
  "metadata": {
    "colab": {
      "provenance": [],
      "authorship_tag": "ABX9TyMG+88ljAmBKaX3L8xv6pds",
      "include_colab_link": true
    },
    "kernelspec": {
      "name": "python3",
      "display_name": "Python 3"
    },
    "language_info": {
      "name": "python"
    }
  },
  "cells": [
    {
      "cell_type": "markdown",
      "metadata": {
        "id": "view-in-github",
        "colab_type": "text"
      },
      "source": [
        "<a href=\"https://colab.research.google.com/github/TanuAgarwal741/Tanu-Agarwal/blob/main/Untitled0.ipynb\" target=\"_parent\"><img src=\"https://colab.research.google.com/assets/colab-badge.svg\" alt=\"Open In Colab\"/></a>"
      ]
    },
    {
      "cell_type": "code",
      "execution_count": null,
      "metadata": {
        "id": "ZtcKPZ28qrq6"
      },
      "outputs": [],
      "source": []
    },
    {
      "cell_type": "code",
      "source": [
        "print(\"test\")"
      ],
      "metadata": {
        "colab": {
          "base_uri": "https://localhost:8080/"
        },
        "id": "TPxvAPnlspAq",
        "outputId": "31ae7d9e-3f31-42c0-924c-5034fb95f8f8"
      },
      "execution_count": 1,
      "outputs": [
        {
          "output_type": "stream",
          "name": "stdout",
          "text": [
            "test\n"
          ]
        }
      ]
    },
    {
      "cell_type": "code",
      "source": [
        "a=input(\"Enter Value\")\n",
        "a=int (a)\n",
        "b=input(\"Enter Value\")\n",
        "b=int (b)\n",
        "c=input(\"Enter Value\")\n",
        "c=int(c)\n",
        "if a>b:\n",
        " print('a is greater than b')\n",
        "elif b>c:\n",
        "   print('b is greater than c')\n",
        "else:\n",
        "  print('c is greater than a&b')"
      ],
      "metadata": {
        "colab": {
          "base_uri": "https://localhost:8080/"
        },
        "id": "FiK5eRbhsyH1",
        "outputId": "7c7d54ea-0b2c-46ee-d498-e0bdc4bf1505"
      },
      "execution_count": 8,
      "outputs": [
        {
          "output_type": "stream",
          "name": "stdout",
          "text": [
            "Enter Value10\n",
            "Enter Value20\n",
            "Enter Value40\n",
            "c is greater than a&b\n"
          ]
        }
      ]
    }
  ]
}