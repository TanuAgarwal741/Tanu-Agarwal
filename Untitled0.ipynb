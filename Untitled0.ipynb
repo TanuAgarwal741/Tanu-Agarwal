{
  "nbformat": 4,
  "nbformat_minor": 0,
  "metadata": {
    "colab": {
      "provenance": [],
      "authorship_tag": "ABX9TyOBjTc1n1Xg+i0tIVahdHWQ",
      "include_colab_link": true
    },
    "kernelspec": {
      "name": "python3",
      "display_name": "Python 3"
    },
    "language_info": {
      "name": "python"
    }
  },
  "cells": [
    {
      "cell_type": "markdown",
      "metadata": {
        "id": "view-in-github",
        "colab_type": "text"
      },
      "source": [
        "<a href=\"https://colab.research.google.com/github/TanuAgarwal741/Tanu-Agarwal/blob/main/Untitled0.ipynb\" target=\"_parent\"><img src=\"https://colab.research.google.com/assets/colab-badge.svg\" alt=\"Open In Colab\"/></a>"
      ]
    },
    {
      "cell_type": "code",
      "execution_count": 1,
      "metadata": {
        "colab": {
          "base_uri": "https://localhost:8080/"
        },
        "id": "oCAd7d5D2-Px",
        "outputId": "180b7e4c-8377-4f4f-862c-df965c6e4f67"
      },
      "outputs": [
        {
          "output_type": "stream",
          "name": "stdout",
          "text": [
            "Tanu Agarwal\n"
          ]
        }
      ],
      "source": [
        "print(\"Tanu Agarwal\")"
      ]
    },
    {
      "cell_type": "code",
      "source": [
        "a=input(\"Enter Value\")\n",
        "a=int(a)\n",
        "b=input(\"Enter Value\")\n",
        "b=int(b)\n",
        "if a>b:\n",
        "  print(\"a is greater than b\")\n",
        "else:\n",
        "  print(\"a is less than b\")"
      ],
      "metadata": {
        "colab": {
          "base_uri": "https://localhost:8080/"
        },
        "id": "SQ-CIF4u3QKH",
        "outputId": "c20c78b7-934b-45ce-de48-5d6aa3a2cb97"
      },
      "execution_count": 4,
      "outputs": [
        {
          "output_type": "stream",
          "name": "stdout",
          "text": [
            "Enter Value10\n",
            "Enter Value5\n",
            "a is greater than b\n"
          ]
        }
      ]
    }
  ]
}