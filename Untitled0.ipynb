{
  "nbformat": 4,
  "nbformat_minor": 0,
  "metadata": {
    "colab": {
      "provenance": [],
      "authorship_tag": "ABX9TyMd5YxTxQsSz6TyC/VyslIa",
      "include_colab_link": true
    },
    "kernelspec": {
      "name": "python3",
      "display_name": "Python 3"
    },
    "language_info": {
      "name": "python"
    }
  },
  "cells": [
    {
      "cell_type": "markdown",
      "metadata": {
        "id": "view-in-github",
        "colab_type": "text"
      },
      "source": [
        "<a href=\"https://colab.research.google.com/github/TanuAgarwal741/Tanu-Agarwal/blob/main/Untitled0.ipynb\" target=\"_parent\"><img src=\"https://colab.research.google.com/assets/colab-badge.svg\" alt=\"Open In Colab\"/></a>"
      ]
    },
    {
      "cell_type": "code",
      "execution_count": 1,
      "metadata": {
        "colab": {
          "base_uri": "https://localhost:8080/"
        },
        "id": "oCAd7d5D2-Px",
        "outputId": "180b7e4c-8377-4f4f-862c-df965c6e4f67"
      },
      "outputs": [
        {
          "output_type": "stream",
          "name": "stdout",
          "text": [
            "Tanu Agarwal\n"
          ]
        }
      ],
      "source": [
        "print(\"Tanu Agarwal\")"
      ]
    },
    {
      "cell_type": "code",
      "source": [
        "a=input(\"Enter Value\")\n",
        "a=int(a)\n",
        "b=input(\"Enter Value\")\n",
        "b=int(b)\n",
        "if a>b:\n",
        "  print(\"a is greater than b\")\n",
        "else:\n",
        "  print(\"a is less than b\")"
      ],
      "metadata": {
        "colab": {
          "base_uri": "https://localhost:8080/"
        },
        "id": "SQ-CIF4u3QKH",
        "outputId": "c20c78b7-934b-45ce-de48-5d6aa3a2cb97"
      },
      "execution_count": 4,
      "outputs": [
        {
          "output_type": "stream",
          "name": "stdout",
          "text": [
            "Enter Value10\n",
            "Enter Value5\n",
            "a is greater than b\n"
          ]
        }
      ]
    },
    {
      "cell_type": "code",
      "source": [
        "a=input(\"Enter Value\")\n",
        "a=int(a)\n",
        "if a%3==0:\n",
        "  print(\"It is divisible by 3\")\n",
        "else:\n",
        "  print(\"It is not divisible by 3\")"
      ],
      "metadata": {
        "colab": {
          "base_uri": "https://localhost:8080/"
        },
        "id": "8sRo4Vzg4iBY",
        "outputId": "bb4c1511-f525-401b-b363-04913c39b8d6"
      },
      "execution_count": 6,
      "outputs": [
        {
          "output_type": "stream",
          "name": "stdout",
          "text": [
            "Enter Value6\n",
            "It is divisible by 3\n"
          ]
        }
      ]
    },
    {
      "cell_type": "code",
      "source": [
        "a=input(\"Enter Value\")\n",
        "a=int(a)\n",
        "b=input(\"Enter Value\")\n",
        "b=int(b)\n",
        "c=input(\"Enter Value\")\n",
        "c=int(c)\n",
        "if a%3==0:\n",
        "  print(\"It is divisible by 3\")\n",
        "else:\n",
        "  print(\"It is not divisible by 3\")\n",
        "if b%5==0:\n",
        "  print(\"It is divisible by 5\")\n",
        "else:\n",
        "  print(\"It is not divisible by 5\")\n",
        "if c%7==0:\n",
        "  print(\"It is divisible by 7\")\n",
        "else:\n",
        "  print(\"It is not divisible by 7\")"
      ],
      "metadata": {
        "colab": {
          "base_uri": "https://localhost:8080/"
        },
        "id": "8YE30PTS5239",
        "outputId": "6618da21-e348-4097-ae55-f0dc22dbee49"
      },
      "execution_count": 8,
      "outputs": [
        {
          "output_type": "stream",
          "name": "stdout",
          "text": [
            "Enter Value6\n",
            "Enter Value10\n",
            "Enter Value21\n",
            "It is divisible by 3\n",
            "It is divisible by 5\n",
            "It is divisible by 7\n"
          ]
        }
      ]
    }
  ]
}