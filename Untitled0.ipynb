{
  "nbformat": 4,
  "nbformat_minor": 0,
  "metadata": {
    "colab": {
      "provenance": [],
      "authorship_tag": "ABX9TyMeiYyqOu7kMMeCNQJ2iguY",
      "include_colab_link": true
    },
    "kernelspec": {
      "name": "python3",
      "display_name": "Python 3"
    },
    "language_info": {
      "name": "python"
    }
  },
  "cells": [
    {
      "cell_type": "markdown",
      "metadata": {
        "id": "view-in-github",
        "colab_type": "text"
      },
      "source": [
        "<a href=\"https://colab.research.google.com/github/TanuAgarwal741/Tanu-Agarwal/blob/main/Untitled0.ipynb\" target=\"_parent\"><img src=\"https://colab.research.google.com/assets/colab-badge.svg\" alt=\"Open In Colab\"/></a>"
      ]
    },
    {
      "cell_type": "code",
      "execution_count": null,
      "metadata": {
        "id": "ZtcKPZ28qrq6"
      },
      "outputs": [],
      "source": []
    },
    {
      "cell_type": "code",
      "source": [
        "print(\"test\")"
      ],
      "metadata": {
        "colab": {
          "base_uri": "https://localhost:8080/"
        },
        "id": "TPxvAPnlspAq",
        "outputId": "31ae7d9e-3f31-42c0-924c-5034fb95f8f8"
      },
      "execution_count": 1,
      "outputs": [
        {
          "output_type": "stream",
          "name": "stdout",
          "text": [
            "test\n"
          ]
        }
      ]
    },
    {
      "cell_type": "code",
      "source": [
        "a=input(\"Enter Value\")\n",
        "a=int (a)\n",
        "b=input(\"Enter Value\")\n",
        "b=int (b)\n",
        "c=input(\"Enter Value\")\n",
        "c=int(c)\n",
        "if a>b:\n",
        " print('a is greater than b')\n",
        "elif b>c:\n",
        "   print('b is greater than c')\n",
        "else:\n",
        "  print('c is greater than a&b')"
      ],
      "metadata": {
        "colab": {
          "base_uri": "https://localhost:8080/"
        },
        "id": "FiK5eRbhsyH1",
        "outputId": "96bd9654-ccec-4a40-eb43-118ffa64ef75"
      },
      "execution_count": 9,
      "outputs": [
        {
          "output_type": "stream",
          "name": "stdout",
          "text": [
            "Enter Value10\n",
            "Enter Value5\n",
            "Enter Value23\n",
            "a is greater than b\n"
          ]
        }
      ]
    },
    {
      "cell_type": "code",
      "source": [
        "a=input(\"Enter Value\")\n",
        "a=int(a)\n",
        "if a%3== 0:\n",
        "  print(\"It is divisible by 3\")\n",
        "else:\n",
        "   print(\"It is not divisible by 3\")"
      ],
      "metadata": {
        "colab": {
          "base_uri": "https://localhost:8080/"
        },
        "id": "2aK9EJLIzWpF",
        "outputId": "e1587e4a-ddec-4e53-dc85-c253b527062d"
      },
      "execution_count": 28,
      "outputs": [
        {
          "output_type": "stream",
          "name": "stdout",
          "text": [
            "Enter Value9\n",
            "It is divisible by 3\n"
          ]
        }
      ]
    },
    {
      "cell_type": "code",
      "source": [
        "a=input(\"Enter Value\")\n",
        "a=int(a)\n",
        "b=input(\"Enter Value\")\n",
        "b=int(b)\n",
        "if a>b:\n",
        "   print(\"a is greater than b\")\n",
        "elif a<b:\n",
        "   print(\"a is less than b\")\n",
        "else:\n",
        " print(\"a is equal to b\")"
      ],
      "metadata": {
        "colab": {
          "base_uri": "https://localhost:8080/"
        },
        "id": "eYnkn5Uk41Zd",
        "outputId": "6f05830d-48b3-4c60-ce48-31af22adfd9b"
      },
      "execution_count": 40,
      "outputs": [
        {
          "output_type": "stream",
          "name": "stdout",
          "text": [
            "Enter Value5\n",
            "Enter Value4\n",
            "a is greater than b\n"
          ]
        }
      ]
    }
  ]
}